{
 "cells": [
  {
   "cell_type": "code",
   "execution_count": 2,
   "id": "8c064e41",
   "metadata": {},
   "outputs": [],
   "source": [
    "# Import data\n",
    "import pandas as pd\n"
   ]
  },
  {
   "cell_type": "code",
   "execution_count": 3,
   "id": "6ba913b5",
   "metadata": {},
   "outputs": [],
   "source": [
    "interaction_df = pd.read_csv('goodreads_interactions.csv')"
   ]
  },
  {
   "cell_type": "code",
   "execution_count": 4,
   "id": "8b3b9696",
   "metadata": {},
   "outputs": [
    {
     "data": {
      "application/vnd.microsoft.datawrangler.viewer.v0+json": {
       "columns": [
        {
         "name": "index",
         "rawType": "int64",
         "type": "integer"
        },
        {
         "name": "user_id",
         "rawType": "int64",
         "type": "integer"
        },
        {
         "name": "book_id",
         "rawType": "int64",
         "type": "integer"
        },
        {
         "name": "is_read",
         "rawType": "int64",
         "type": "integer"
        },
        {
         "name": "rating",
         "rawType": "int64",
         "type": "integer"
        },
        {
         "name": "is_reviewed",
         "rawType": "int64",
         "type": "integer"
        }
       ],
       "ref": "e77f685b-4e79-4a55-b288-cd107f19a0d2",
       "rows": [
        [
         "0",
         "0",
         "948",
         "1",
         "5",
         "0"
        ],
        [
         "1",
         "0",
         "947",
         "1",
         "5",
         "1"
        ],
        [
         "2",
         "0",
         "946",
         "1",
         "5",
         "0"
        ],
        [
         "3",
         "0",
         "945",
         "1",
         "5",
         "0"
        ],
        [
         "4",
         "0",
         "944",
         "1",
         "5",
         "0"
        ],
        [
         "5",
         "0",
         "943",
         "1",
         "5",
         "0"
        ],
        [
         "6",
         "0",
         "942",
         "1",
         "5",
         "0"
        ],
        [
         "7",
         "0",
         "941",
         "1",
         "5",
         "0"
        ],
        [
         "8",
         "0",
         "940",
         "1",
         "5",
         "0"
        ],
        [
         "9",
         "0",
         "939",
         "1",
         "5",
         "1"
        ],
        [
         "10",
         "0",
         "938",
         "1",
         "5",
         "1"
        ],
        [
         "11",
         "0",
         "937",
         "1",
         "4",
         "0"
        ],
        [
         "12",
         "0",
         "936",
         "1",
         "4",
         "0"
        ],
        [
         "13",
         "0",
         "935",
         "1",
         "4",
         "0"
        ],
        [
         "14",
         "0",
         "934",
         "1",
         "5",
         "1"
        ],
        [
         "15",
         "0",
         "933",
         "1",
         "4",
         "0"
        ],
        [
         "16",
         "0",
         "932",
         "1",
         "4",
         "0"
        ],
        [
         "17",
         "0",
         "931",
         "1",
         "5",
         "0"
        ],
        [
         "18",
         "0",
         "930",
         "1",
         "2",
         "1"
        ],
        [
         "19",
         "0",
         "929",
         "1",
         "4",
         "1"
        ],
        [
         "20",
         "0",
         "928",
         "1",
         "4",
         "1"
        ],
        [
         "21",
         "0",
         "927",
         "1",
         "5",
         "1"
        ],
        [
         "22",
         "0",
         "926",
         "1",
         "3",
         "1"
        ],
        [
         "23",
         "0",
         "925",
         "1",
         "4",
         "1"
        ],
        [
         "24",
         "0",
         "924",
         "1",
         "5",
         "0"
        ],
        [
         "25",
         "0",
         "923",
         "1",
         "5",
         "1"
        ],
        [
         "26",
         "0",
         "922",
         "1",
         "5",
         "0"
        ],
        [
         "27",
         "0",
         "921",
         "1",
         "4",
         "1"
        ],
        [
         "28",
         "0",
         "920",
         "1",
         "5",
         "1"
        ],
        [
         "29",
         "0",
         "919",
         "1",
         "5",
         "0"
        ],
        [
         "30",
         "0",
         "918",
         "1",
         "5",
         "1"
        ],
        [
         "31",
         "0",
         "917",
         "1",
         "3",
         "1"
        ],
        [
         "32",
         "0",
         "916",
         "1",
         "5",
         "0"
        ],
        [
         "33",
         "0",
         "915",
         "1",
         "5",
         "1"
        ],
        [
         "34",
         "0",
         "914",
         "1",
         "4",
         "1"
        ],
        [
         "35",
         "0",
         "913",
         "0",
         "0",
         "1"
        ],
        [
         "36",
         "0",
         "912",
         "1",
         "5",
         "1"
        ],
        [
         "37",
         "0",
         "911",
         "0",
         "0",
         "0"
        ],
        [
         "38",
         "0",
         "910",
         "0",
         "0",
         "1"
        ],
        [
         "39",
         "0",
         "909",
         "1",
         "4",
         "1"
        ],
        [
         "40",
         "0",
         "908",
         "1",
         "4",
         "0"
        ],
        [
         "41",
         "0",
         "907",
         "0",
         "0",
         "0"
        ],
        [
         "42",
         "0",
         "906",
         "0",
         "0",
         "0"
        ],
        [
         "43",
         "0",
         "905",
         "1",
         "4",
         "1"
        ],
        [
         "44",
         "0",
         "904",
         "0",
         "0",
         "0"
        ],
        [
         "45",
         "0",
         "903",
         "1",
         "5",
         "1"
        ],
        [
         "46",
         "0",
         "902",
         "0",
         "0",
         "1"
        ],
        [
         "47",
         "0",
         "901",
         "1",
         "4",
         "1"
        ],
        [
         "48",
         "0",
         "900",
         "1",
         "4",
         "1"
        ],
        [
         "49",
         "0",
         "899",
         "1",
         "4",
         "1"
        ]
       ],
       "shape": {
        "columns": 5,
        "rows": 228648342
       }
      },
      "text/html": [
       "<div>\n",
       "<style scoped>\n",
       "    .dataframe tbody tr th:only-of-type {\n",
       "        vertical-align: middle;\n",
       "    }\n",
       "\n",
       "    .dataframe tbody tr th {\n",
       "        vertical-align: top;\n",
       "    }\n",
       "\n",
       "    .dataframe thead th {\n",
       "        text-align: right;\n",
       "    }\n",
       "</style>\n",
       "<table border=\"1\" class=\"dataframe\">\n",
       "  <thead>\n",
       "    <tr style=\"text-align: right;\">\n",
       "      <th></th>\n",
       "      <th>user_id</th>\n",
       "      <th>book_id</th>\n",
       "      <th>is_read</th>\n",
       "      <th>rating</th>\n",
       "      <th>is_reviewed</th>\n",
       "    </tr>\n",
       "  </thead>\n",
       "  <tbody>\n",
       "    <tr>\n",
       "      <th>0</th>\n",
       "      <td>0</td>\n",
       "      <td>948</td>\n",
       "      <td>1</td>\n",
       "      <td>5</td>\n",
       "      <td>0</td>\n",
       "    </tr>\n",
       "    <tr>\n",
       "      <th>1</th>\n",
       "      <td>0</td>\n",
       "      <td>947</td>\n",
       "      <td>1</td>\n",
       "      <td>5</td>\n",
       "      <td>1</td>\n",
       "    </tr>\n",
       "    <tr>\n",
       "      <th>2</th>\n",
       "      <td>0</td>\n",
       "      <td>946</td>\n",
       "      <td>1</td>\n",
       "      <td>5</td>\n",
       "      <td>0</td>\n",
       "    </tr>\n",
       "    <tr>\n",
       "      <th>3</th>\n",
       "      <td>0</td>\n",
       "      <td>945</td>\n",
       "      <td>1</td>\n",
       "      <td>5</td>\n",
       "      <td>0</td>\n",
       "    </tr>\n",
       "    <tr>\n",
       "      <th>4</th>\n",
       "      <td>0</td>\n",
       "      <td>944</td>\n",
       "      <td>1</td>\n",
       "      <td>5</td>\n",
       "      <td>0</td>\n",
       "    </tr>\n",
       "    <tr>\n",
       "      <th>...</th>\n",
       "      <td>...</td>\n",
       "      <td>...</td>\n",
       "      <td>...</td>\n",
       "      <td>...</td>\n",
       "      <td>...</td>\n",
       "    </tr>\n",
       "    <tr>\n",
       "      <th>228648337</th>\n",
       "      <td>876144</td>\n",
       "      <td>24772</td>\n",
       "      <td>0</td>\n",
       "      <td>0</td>\n",
       "      <td>0</td>\n",
       "    </tr>\n",
       "    <tr>\n",
       "      <th>228648338</th>\n",
       "      <td>876144</td>\n",
       "      <td>23847</td>\n",
       "      <td>1</td>\n",
       "      <td>4</td>\n",
       "      <td>0</td>\n",
       "    </tr>\n",
       "    <tr>\n",
       "      <th>228648339</th>\n",
       "      <td>876144</td>\n",
       "      <td>23950</td>\n",
       "      <td>1</td>\n",
       "      <td>3</td>\n",
       "      <td>0</td>\n",
       "    </tr>\n",
       "    <tr>\n",
       "      <th>228648340</th>\n",
       "      <td>876144</td>\n",
       "      <td>374106</td>\n",
       "      <td>1</td>\n",
       "      <td>5</td>\n",
       "      <td>1</td>\n",
       "    </tr>\n",
       "    <tr>\n",
       "      <th>228648341</th>\n",
       "      <td>876144</td>\n",
       "      <td>351607</td>\n",
       "      <td>1</td>\n",
       "      <td>5</td>\n",
       "      <td>1</td>\n",
       "    </tr>\n",
       "  </tbody>\n",
       "</table>\n",
       "<p>228648342 rows × 5 columns</p>\n",
       "</div>"
      ],
      "text/plain": [
       "           user_id  book_id  is_read  rating  is_reviewed\n",
       "0                0      948        1       5            0\n",
       "1                0      947        1       5            1\n",
       "2                0      946        1       5            0\n",
       "3                0      945        1       5            0\n",
       "4                0      944        1       5            0\n",
       "...            ...      ...      ...     ...          ...\n",
       "228648337   876144    24772        0       0            0\n",
       "228648338   876144    23847        1       4            0\n",
       "228648339   876144    23950        1       3            0\n",
       "228648340   876144   374106        1       5            1\n",
       "228648341   876144   351607        1       5            1\n",
       "\n",
       "[228648342 rows x 5 columns]"
      ]
     },
     "execution_count": 4,
     "metadata": {},
     "output_type": "execute_result"
    }
   ],
   "source": [
    "interaction_df"
   ]
  },
  {
   "cell_type": "code",
   "execution_count": 5,
   "id": "50bcb365",
   "metadata": {},
   "outputs": [
    {
     "data": {
      "application/vnd.microsoft.datawrangler.viewer.v0+json": {
       "columns": [
        {
         "name": "index",
         "rawType": "object",
         "type": "string"
        },
        {
         "name": "user_id",
         "rawType": "float64",
         "type": "float"
        },
        {
         "name": "book_id",
         "rawType": "float64",
         "type": "float"
        },
        {
         "name": "is_read",
         "rawType": "float64",
         "type": "float"
        },
        {
         "name": "rating",
         "rawType": "float64",
         "type": "float"
        },
        {
         "name": "is_reviewed",
         "rawType": "float64",
         "type": "float"
        }
       ],
       "ref": "867dc17e-9abc-4b56-b89c-40ab1c88ea15",
       "rows": [
        [
         "count",
         "228648342.0",
         "228648342.0",
         "228648342.0",
         "228648342.0",
         "228648342.0"
        ],
        [
         "mean",
         "250063.59455103768",
         "201575.64236556328",
         "0.49040899233811197",
         "1.8013400945632048",
         "0.07093490754461713"
        ],
        [
         "std",
         "171271.2992643857",
         "344867.6590812228",
         "0.49990800520196665",
         "2.0726724650812285",
         "0.2567160819358279"
        ],
        [
         "min",
         "0.0",
         "0.0",
         "0.0",
         "0.0",
         "0.0"
        ],
        [
         "25%",
         "114301.0",
         "12527.0",
         "0.0",
         "0.0",
         "0.0"
        ],
        [
         "50%",
         "233899.0",
         "50346.0",
         "0.0",
         "0.0",
         "0.0"
        ],
        [
         "75%",
         "358110.0",
         "222924.0",
         "1.0",
         "4.0",
         "0.0"
        ],
        [
         "max",
         "876144.0",
         "2360649.0",
         "1.0",
         "5.0",
         "1.0"
        ]
       ],
       "shape": {
        "columns": 5,
        "rows": 8
       }
      },
      "text/html": [
       "<div>\n",
       "<style scoped>\n",
       "    .dataframe tbody tr th:only-of-type {\n",
       "        vertical-align: middle;\n",
       "    }\n",
       "\n",
       "    .dataframe tbody tr th {\n",
       "        vertical-align: top;\n",
       "    }\n",
       "\n",
       "    .dataframe thead th {\n",
       "        text-align: right;\n",
       "    }\n",
       "</style>\n",
       "<table border=\"1\" class=\"dataframe\">\n",
       "  <thead>\n",
       "    <tr style=\"text-align: right;\">\n",
       "      <th></th>\n",
       "      <th>user_id</th>\n",
       "      <th>book_id</th>\n",
       "      <th>is_read</th>\n",
       "      <th>rating</th>\n",
       "      <th>is_reviewed</th>\n",
       "    </tr>\n",
       "  </thead>\n",
       "  <tbody>\n",
       "    <tr>\n",
       "      <th>count</th>\n",
       "      <td>2.286483e+08</td>\n",
       "      <td>2.286483e+08</td>\n",
       "      <td>2.286483e+08</td>\n",
       "      <td>2.286483e+08</td>\n",
       "      <td>2.286483e+08</td>\n",
       "    </tr>\n",
       "    <tr>\n",
       "      <th>mean</th>\n",
       "      <td>2.500636e+05</td>\n",
       "      <td>2.015756e+05</td>\n",
       "      <td>4.904090e-01</td>\n",
       "      <td>1.801340e+00</td>\n",
       "      <td>7.093491e-02</td>\n",
       "    </tr>\n",
       "    <tr>\n",
       "      <th>std</th>\n",
       "      <td>1.712713e+05</td>\n",
       "      <td>3.448677e+05</td>\n",
       "      <td>4.999080e-01</td>\n",
       "      <td>2.072672e+00</td>\n",
       "      <td>2.567161e-01</td>\n",
       "    </tr>\n",
       "    <tr>\n",
       "      <th>min</th>\n",
       "      <td>0.000000e+00</td>\n",
       "      <td>0.000000e+00</td>\n",
       "      <td>0.000000e+00</td>\n",
       "      <td>0.000000e+00</td>\n",
       "      <td>0.000000e+00</td>\n",
       "    </tr>\n",
       "    <tr>\n",
       "      <th>25%</th>\n",
       "      <td>1.143010e+05</td>\n",
       "      <td>1.252700e+04</td>\n",
       "      <td>0.000000e+00</td>\n",
       "      <td>0.000000e+00</td>\n",
       "      <td>0.000000e+00</td>\n",
       "    </tr>\n",
       "    <tr>\n",
       "      <th>50%</th>\n",
       "      <td>2.338990e+05</td>\n",
       "      <td>5.034600e+04</td>\n",
       "      <td>0.000000e+00</td>\n",
       "      <td>0.000000e+00</td>\n",
       "      <td>0.000000e+00</td>\n",
       "    </tr>\n",
       "    <tr>\n",
       "      <th>75%</th>\n",
       "      <td>3.581100e+05</td>\n",
       "      <td>2.229240e+05</td>\n",
       "      <td>1.000000e+00</td>\n",
       "      <td>4.000000e+00</td>\n",
       "      <td>0.000000e+00</td>\n",
       "    </tr>\n",
       "    <tr>\n",
       "      <th>max</th>\n",
       "      <td>8.761440e+05</td>\n",
       "      <td>2.360649e+06</td>\n",
       "      <td>1.000000e+00</td>\n",
       "      <td>5.000000e+00</td>\n",
       "      <td>1.000000e+00</td>\n",
       "    </tr>\n",
       "  </tbody>\n",
       "</table>\n",
       "</div>"
      ],
      "text/plain": [
       "            user_id       book_id       is_read        rating   is_reviewed\n",
       "count  2.286483e+08  2.286483e+08  2.286483e+08  2.286483e+08  2.286483e+08\n",
       "mean   2.500636e+05  2.015756e+05  4.904090e-01  1.801340e+00  7.093491e-02\n",
       "std    1.712713e+05  3.448677e+05  4.999080e-01  2.072672e+00  2.567161e-01\n",
       "min    0.000000e+00  0.000000e+00  0.000000e+00  0.000000e+00  0.000000e+00\n",
       "25%    1.143010e+05  1.252700e+04  0.000000e+00  0.000000e+00  0.000000e+00\n",
       "50%    2.338990e+05  5.034600e+04  0.000000e+00  0.000000e+00  0.000000e+00\n",
       "75%    3.581100e+05  2.229240e+05  1.000000e+00  4.000000e+00  0.000000e+00\n",
       "max    8.761440e+05  2.360649e+06  1.000000e+00  5.000000e+00  1.000000e+00"
      ]
     },
     "execution_count": 5,
     "metadata": {},
     "output_type": "execute_result"
    }
   ],
   "source": [
    "interaction_df.describe()\n"
   ]
  },
  {
   "cell_type": "code",
   "execution_count": 6,
   "id": "9d7d76c3",
   "metadata": {},
   "outputs": [
    {
     "name": "stdout",
     "output_type": "stream",
     "text": [
      "<class 'pandas.core.frame.DataFrame'>\n",
      "RangeIndex: 228648342 entries, 0 to 228648341\n",
      "Data columns (total 5 columns):\n",
      " #   Column       Dtype\n",
      "---  ------       -----\n",
      " 0   user_id      int64\n",
      " 1   book_id      int64\n",
      " 2   is_read      int64\n",
      " 3   rating       int64\n",
      " 4   is_reviewed  int64\n",
      "dtypes: int64(5)\n",
      "memory usage: 8.5 GB\n"
     ]
    }
   ],
   "source": [
    "interaction_df.info()"
   ]
  },
  {
   "cell_type": "code",
   "execution_count": 7,
   "id": "79c9513a",
   "metadata": {},
   "outputs": [
    {
     "data": {
      "application/vnd.microsoft.datawrangler.viewer.v0+json": {
       "columns": [
        {
         "name": "index",
         "rawType": "object",
         "type": "string"
        },
        {
         "name": "0",
         "rawType": "int64",
         "type": "integer"
        }
       ],
       "ref": "727ce6b3-e0da-462e-98c6-a1b7f0e1ca05",
       "rows": [
        [
         "user_id",
         "0"
        ],
        [
         "book_id",
         "0"
        ],
        [
         "is_read",
         "0"
        ],
        [
         "rating",
         "0"
        ],
        [
         "is_reviewed",
         "0"
        ]
       ],
       "shape": {
        "columns": 1,
        "rows": 5
       }
      },
      "text/plain": [
       "user_id        0\n",
       "book_id        0\n",
       "is_read        0\n",
       "rating         0\n",
       "is_reviewed    0\n",
       "dtype: int64"
      ]
     },
     "execution_count": 7,
     "metadata": {},
     "output_type": "execute_result"
    }
   ],
   "source": [
    "interaction_df.isnull().sum()"
   ]
  },
  {
   "cell_type": "code",
   "execution_count": 8,
   "id": "751413ee",
   "metadata": {},
   "outputs": [
    {
     "ename": "KeyboardInterrupt",
     "evalue": "",
     "output_type": "error",
     "traceback": [
      "\u001b[1;31m---------------------------------------------------------------------------\u001b[0m",
      "\u001b[1;31mKeyboardInterrupt\u001b[0m                         Traceback (most recent call last)",
      "Cell \u001b[1;32mIn[8], line 3\u001b[0m\n\u001b[0;32m      1\u001b[0m \u001b[38;5;66;03m# I actually care only about user_id, book_id and rating of books that were read by the user\u001b[39;00m\n\u001b[1;32m----> 3\u001b[0m interaction_df_clean \u001b[38;5;241m=\u001b[39m \u001b[43minteraction_df\u001b[49m\u001b[43m[\u001b[49m\u001b[43m[\u001b[49m\u001b[38;5;124;43m'\u001b[39;49m\u001b[38;5;124;43muser_id\u001b[39;49m\u001b[38;5;124;43m'\u001b[39;49m\u001b[43m,\u001b[49m\u001b[43m \u001b[49m\u001b[38;5;124;43m'\u001b[39;49m\u001b[38;5;124;43mbook_id\u001b[39;49m\u001b[38;5;124;43m'\u001b[39;49m\u001b[43m,\u001b[49m\u001b[43m \u001b[49m\u001b[38;5;124;43m'\u001b[39;49m\u001b[38;5;124;43mrating\u001b[39;49m\u001b[38;5;124;43m'\u001b[39;49m\u001b[43m]\u001b[49m\u001b[43m]\u001b[49m\u001b[43m[\u001b[49m\u001b[43minteraction_df\u001b[49m\u001b[43m[\u001b[49m\u001b[38;5;124;43m'\u001b[39;49m\u001b[38;5;124;43mis_read\u001b[39;49m\u001b[38;5;124;43m'\u001b[39;49m\u001b[43m]\u001b[49m\u001b[43m \u001b[49m\u001b[38;5;241;43m==\u001b[39;49m\u001b[43m \u001b[49m\u001b[38;5;241;43m1\u001b[39;49m\u001b[43m]\u001b[49m\n",
      "File \u001b[1;32mc:\\Users\\k-bur\\OneDrive\\Documents\\Python Scripts\\Recommender\\.venv\\lib\\site-packages\\pandas\\core\\frame.py:4093\u001b[0m, in \u001b[0;36mDataFrame.__getitem__\u001b[1;34m(self, key)\u001b[0m\n\u001b[0;32m   4091\u001b[0m \u001b[38;5;66;03m# Do we have a (boolean) 1d indexer?\u001b[39;00m\n\u001b[0;32m   4092\u001b[0m \u001b[38;5;28;01mif\u001b[39;00m com\u001b[38;5;241m.\u001b[39mis_bool_indexer(key):\n\u001b[1;32m-> 4093\u001b[0m     \u001b[38;5;28;01mreturn\u001b[39;00m \u001b[38;5;28;43mself\u001b[39;49m\u001b[38;5;241;43m.\u001b[39;49m\u001b[43m_getitem_bool_array\u001b[49m\u001b[43m(\u001b[49m\u001b[43mkey\u001b[49m\u001b[43m)\u001b[49m\n\u001b[0;32m   4095\u001b[0m \u001b[38;5;66;03m# We are left with two options: a single key, and a collection of keys,\u001b[39;00m\n\u001b[0;32m   4096\u001b[0m \u001b[38;5;66;03m# We interpret tuples as collections only for non-MultiIndex\u001b[39;00m\n\u001b[0;32m   4097\u001b[0m is_single_key \u001b[38;5;241m=\u001b[39m \u001b[38;5;28misinstance\u001b[39m(key, \u001b[38;5;28mtuple\u001b[39m) \u001b[38;5;129;01mor\u001b[39;00m \u001b[38;5;129;01mnot\u001b[39;00m is_list_like(key)\n",
      "File \u001b[1;32mc:\\Users\\k-bur\\OneDrive\\Documents\\Python Scripts\\Recommender\\.venv\\lib\\site-packages\\pandas\\core\\frame.py:4155\u001b[0m, in \u001b[0;36mDataFrame._getitem_bool_array\u001b[1;34m(self, key)\u001b[0m\n\u001b[0;32m   4152\u001b[0m     \u001b[38;5;28;01mreturn\u001b[39;00m \u001b[38;5;28mself\u001b[39m\u001b[38;5;241m.\u001b[39mcopy(deep\u001b[38;5;241m=\u001b[39m\u001b[38;5;28;01mNone\u001b[39;00m)\n\u001b[0;32m   4154\u001b[0m indexer \u001b[38;5;241m=\u001b[39m key\u001b[38;5;241m.\u001b[39mnonzero()[\u001b[38;5;241m0\u001b[39m]\n\u001b[1;32m-> 4155\u001b[0m \u001b[38;5;28;01mreturn\u001b[39;00m \u001b[38;5;28;43mself\u001b[39;49m\u001b[38;5;241;43m.\u001b[39;49m\u001b[43m_take_with_is_copy\u001b[49m\u001b[43m(\u001b[49m\u001b[43mindexer\u001b[49m\u001b[43m,\u001b[49m\u001b[43m \u001b[49m\u001b[43maxis\u001b[49m\u001b[38;5;241;43m=\u001b[39;49m\u001b[38;5;241;43m0\u001b[39;49m\u001b[43m)\u001b[49m\n",
      "File \u001b[1;32mc:\\Users\\k-bur\\OneDrive\\Documents\\Python Scripts\\Recommender\\.venv\\lib\\site-packages\\pandas\\core\\generic.py:4153\u001b[0m, in \u001b[0;36mNDFrame._take_with_is_copy\u001b[1;34m(self, indices, axis)\u001b[0m\n\u001b[0;32m   4142\u001b[0m \u001b[38;5;129m@final\u001b[39m\n\u001b[0;32m   4143\u001b[0m \u001b[38;5;28;01mdef\u001b[39;00m\u001b[38;5;250m \u001b[39m\u001b[38;5;21m_take_with_is_copy\u001b[39m(\u001b[38;5;28mself\u001b[39m, indices, axis: Axis \u001b[38;5;241m=\u001b[39m \u001b[38;5;241m0\u001b[39m) \u001b[38;5;241m-\u001b[39m\u001b[38;5;241m>\u001b[39m Self:\n\u001b[0;32m   4144\u001b[0m \u001b[38;5;250m    \u001b[39m\u001b[38;5;124;03m\"\"\"\u001b[39;00m\n\u001b[0;32m   4145\u001b[0m \u001b[38;5;124;03m    Internal version of the `take` method that sets the `_is_copy`\u001b[39;00m\n\u001b[0;32m   4146\u001b[0m \u001b[38;5;124;03m    attribute to keep track of the parent dataframe (using in indexing\u001b[39;00m\n\u001b[1;32m   (...)\u001b[0m\n\u001b[0;32m   4151\u001b[0m \u001b[38;5;124;03m    See the docstring of `take` for full explanation of the parameters.\u001b[39;00m\n\u001b[0;32m   4152\u001b[0m \u001b[38;5;124;03m    \"\"\"\u001b[39;00m\n\u001b[1;32m-> 4153\u001b[0m     result \u001b[38;5;241m=\u001b[39m \u001b[38;5;28;43mself\u001b[39;49m\u001b[38;5;241;43m.\u001b[39;49m\u001b[43mtake\u001b[49m\u001b[43m(\u001b[49m\u001b[43mindices\u001b[49m\u001b[38;5;241;43m=\u001b[39;49m\u001b[43mindices\u001b[49m\u001b[43m,\u001b[49m\u001b[43m \u001b[49m\u001b[43maxis\u001b[49m\u001b[38;5;241;43m=\u001b[39;49m\u001b[43maxis\u001b[49m\u001b[43m)\u001b[49m\n\u001b[0;32m   4154\u001b[0m     \u001b[38;5;66;03m# Maybe set copy if we didn't actually change the index.\u001b[39;00m\n\u001b[0;32m   4155\u001b[0m     \u001b[38;5;28;01mif\u001b[39;00m \u001b[38;5;28mself\u001b[39m\u001b[38;5;241m.\u001b[39mndim \u001b[38;5;241m==\u001b[39m \u001b[38;5;241m2\u001b[39m \u001b[38;5;129;01mand\u001b[39;00m \u001b[38;5;129;01mnot\u001b[39;00m result\u001b[38;5;241m.\u001b[39m_get_axis(axis)\u001b[38;5;241m.\u001b[39mequals(\u001b[38;5;28mself\u001b[39m\u001b[38;5;241m.\u001b[39m_get_axis(axis)):\n",
      "File \u001b[1;32mc:\\Users\\k-bur\\OneDrive\\Documents\\Python Scripts\\Recommender\\.venv\\lib\\site-packages\\pandas\\core\\generic.py:4133\u001b[0m, in \u001b[0;36mNDFrame.take\u001b[1;34m(self, indices, axis, **kwargs)\u001b[0m\n\u001b[0;32m   4128\u001b[0m     \u001b[38;5;66;03m# We can get here with a slice via DataFrame.__getitem__\u001b[39;00m\n\u001b[0;32m   4129\u001b[0m     indices \u001b[38;5;241m=\u001b[39m np\u001b[38;5;241m.\u001b[39marange(\n\u001b[0;32m   4130\u001b[0m         indices\u001b[38;5;241m.\u001b[39mstart, indices\u001b[38;5;241m.\u001b[39mstop, indices\u001b[38;5;241m.\u001b[39mstep, dtype\u001b[38;5;241m=\u001b[39mnp\u001b[38;5;241m.\u001b[39mintp\n\u001b[0;32m   4131\u001b[0m     )\n\u001b[1;32m-> 4133\u001b[0m new_data \u001b[38;5;241m=\u001b[39m \u001b[38;5;28;43mself\u001b[39;49m\u001b[38;5;241;43m.\u001b[39;49m\u001b[43m_mgr\u001b[49m\u001b[38;5;241;43m.\u001b[39;49m\u001b[43mtake\u001b[49m\u001b[43m(\u001b[49m\n\u001b[0;32m   4134\u001b[0m \u001b[43m    \u001b[49m\u001b[43mindices\u001b[49m\u001b[43m,\u001b[49m\n\u001b[0;32m   4135\u001b[0m \u001b[43m    \u001b[49m\u001b[43maxis\u001b[49m\u001b[38;5;241;43m=\u001b[39;49m\u001b[38;5;28;43mself\u001b[39;49m\u001b[38;5;241;43m.\u001b[39;49m\u001b[43m_get_block_manager_axis\u001b[49m\u001b[43m(\u001b[49m\u001b[43maxis\u001b[49m\u001b[43m)\u001b[49m\u001b[43m,\u001b[49m\n\u001b[0;32m   4136\u001b[0m \u001b[43m    \u001b[49m\u001b[43mverify\u001b[49m\u001b[38;5;241;43m=\u001b[39;49m\u001b[38;5;28;43;01mTrue\u001b[39;49;00m\u001b[43m,\u001b[49m\n\u001b[0;32m   4137\u001b[0m \u001b[43m\u001b[49m\u001b[43m)\u001b[49m\n\u001b[0;32m   4138\u001b[0m \u001b[38;5;28;01mreturn\u001b[39;00m \u001b[38;5;28mself\u001b[39m\u001b[38;5;241m.\u001b[39m_constructor_from_mgr(new_data, axes\u001b[38;5;241m=\u001b[39mnew_data\u001b[38;5;241m.\u001b[39maxes)\u001b[38;5;241m.\u001b[39m__finalize__(\n\u001b[0;32m   4139\u001b[0m     \u001b[38;5;28mself\u001b[39m, method\u001b[38;5;241m=\u001b[39m\u001b[38;5;124m\"\u001b[39m\u001b[38;5;124mtake\u001b[39m\u001b[38;5;124m\"\u001b[39m\n\u001b[0;32m   4140\u001b[0m )\n",
      "File \u001b[1;32mc:\\Users\\k-bur\\OneDrive\\Documents\\Python Scripts\\Recommender\\.venv\\lib\\site-packages\\pandas\\core\\internals\\managers.py:894\u001b[0m, in \u001b[0;36mBaseBlockManager.take\u001b[1;34m(self, indexer, axis, verify)\u001b[0m\n\u001b[0;32m    891\u001b[0m indexer \u001b[38;5;241m=\u001b[39m maybe_convert_indices(indexer, n, verify\u001b[38;5;241m=\u001b[39mverify)\n\u001b[0;32m    893\u001b[0m new_labels \u001b[38;5;241m=\u001b[39m \u001b[38;5;28mself\u001b[39m\u001b[38;5;241m.\u001b[39maxes[axis]\u001b[38;5;241m.\u001b[39mtake(indexer)\n\u001b[1;32m--> 894\u001b[0m \u001b[38;5;28;01mreturn\u001b[39;00m \u001b[38;5;28;43mself\u001b[39;49m\u001b[38;5;241;43m.\u001b[39;49m\u001b[43mreindex_indexer\u001b[49m\u001b[43m(\u001b[49m\n\u001b[0;32m    895\u001b[0m \u001b[43m    \u001b[49m\u001b[43mnew_axis\u001b[49m\u001b[38;5;241;43m=\u001b[39;49m\u001b[43mnew_labels\u001b[49m\u001b[43m,\u001b[49m\n\u001b[0;32m    896\u001b[0m \u001b[43m    \u001b[49m\u001b[43mindexer\u001b[49m\u001b[38;5;241;43m=\u001b[39;49m\u001b[43mindexer\u001b[49m\u001b[43m,\u001b[49m\n\u001b[0;32m    897\u001b[0m \u001b[43m    \u001b[49m\u001b[43maxis\u001b[49m\u001b[38;5;241;43m=\u001b[39;49m\u001b[43maxis\u001b[49m\u001b[43m,\u001b[49m\n\u001b[0;32m    898\u001b[0m \u001b[43m    \u001b[49m\u001b[43mallow_dups\u001b[49m\u001b[38;5;241;43m=\u001b[39;49m\u001b[38;5;28;43;01mTrue\u001b[39;49;00m\u001b[43m,\u001b[49m\n\u001b[0;32m    899\u001b[0m \u001b[43m    \u001b[49m\u001b[43mcopy\u001b[49m\u001b[38;5;241;43m=\u001b[39;49m\u001b[38;5;28;43;01mNone\u001b[39;49;00m\u001b[43m,\u001b[49m\n\u001b[0;32m    900\u001b[0m \u001b[43m\u001b[49m\u001b[43m)\u001b[49m\n",
      "File \u001b[1;32mc:\\Users\\k-bur\\OneDrive\\Documents\\Python Scripts\\Recommender\\.venv\\lib\\site-packages\\pandas\\core\\internals\\managers.py:687\u001b[0m, in \u001b[0;36mBaseBlockManager.reindex_indexer\u001b[1;34m(self, new_axis, indexer, axis, fill_value, allow_dups, copy, only_slice, use_na_proxy)\u001b[0m\n\u001b[0;32m    680\u001b[0m     new_blocks \u001b[38;5;241m=\u001b[39m \u001b[38;5;28mself\u001b[39m\u001b[38;5;241m.\u001b[39m_slice_take_blocks_ax0(\n\u001b[0;32m    681\u001b[0m         indexer,\n\u001b[0;32m    682\u001b[0m         fill_value\u001b[38;5;241m=\u001b[39mfill_value,\n\u001b[0;32m    683\u001b[0m         only_slice\u001b[38;5;241m=\u001b[39monly_slice,\n\u001b[0;32m    684\u001b[0m         use_na_proxy\u001b[38;5;241m=\u001b[39muse_na_proxy,\n\u001b[0;32m    685\u001b[0m     )\n\u001b[0;32m    686\u001b[0m \u001b[38;5;28;01melse\u001b[39;00m:\n\u001b[1;32m--> 687\u001b[0m     new_blocks \u001b[38;5;241m=\u001b[39m [\n\u001b[0;32m    688\u001b[0m         blk\u001b[38;5;241m.\u001b[39mtake_nd(\n\u001b[0;32m    689\u001b[0m             indexer,\n\u001b[0;32m    690\u001b[0m             axis\u001b[38;5;241m=\u001b[39m\u001b[38;5;241m1\u001b[39m,\n\u001b[0;32m    691\u001b[0m             fill_value\u001b[38;5;241m=\u001b[39m(\n\u001b[0;32m    692\u001b[0m                 fill_value \u001b[38;5;28;01mif\u001b[39;00m fill_value \u001b[38;5;129;01mis\u001b[39;00m \u001b[38;5;129;01mnot\u001b[39;00m \u001b[38;5;28;01mNone\u001b[39;00m \u001b[38;5;28;01melse\u001b[39;00m blk\u001b[38;5;241m.\u001b[39mfill_value\n\u001b[0;32m    693\u001b[0m             ),\n\u001b[0;32m    694\u001b[0m         )\n\u001b[0;32m    695\u001b[0m         \u001b[38;5;28;01mfor\u001b[39;00m blk \u001b[38;5;129;01min\u001b[39;00m \u001b[38;5;28mself\u001b[39m\u001b[38;5;241m.\u001b[39mblocks\n\u001b[0;32m    696\u001b[0m     ]\n\u001b[0;32m    698\u001b[0m new_axes \u001b[38;5;241m=\u001b[39m \u001b[38;5;28mlist\u001b[39m(\u001b[38;5;28mself\u001b[39m\u001b[38;5;241m.\u001b[39maxes)\n\u001b[0;32m    699\u001b[0m new_axes[axis] \u001b[38;5;241m=\u001b[39m new_axis\n",
      "File \u001b[1;32mc:\\Users\\k-bur\\OneDrive\\Documents\\Python Scripts\\Recommender\\.venv\\lib\\site-packages\\pandas\\core\\internals\\managers.py:688\u001b[0m, in \u001b[0;36m<listcomp>\u001b[1;34m(.0)\u001b[0m\n\u001b[0;32m    680\u001b[0m     new_blocks \u001b[38;5;241m=\u001b[39m \u001b[38;5;28mself\u001b[39m\u001b[38;5;241m.\u001b[39m_slice_take_blocks_ax0(\n\u001b[0;32m    681\u001b[0m         indexer,\n\u001b[0;32m    682\u001b[0m         fill_value\u001b[38;5;241m=\u001b[39mfill_value,\n\u001b[0;32m    683\u001b[0m         only_slice\u001b[38;5;241m=\u001b[39monly_slice,\n\u001b[0;32m    684\u001b[0m         use_na_proxy\u001b[38;5;241m=\u001b[39muse_na_proxy,\n\u001b[0;32m    685\u001b[0m     )\n\u001b[0;32m    686\u001b[0m \u001b[38;5;28;01melse\u001b[39;00m:\n\u001b[0;32m    687\u001b[0m     new_blocks \u001b[38;5;241m=\u001b[39m [\n\u001b[1;32m--> 688\u001b[0m         \u001b[43mblk\u001b[49m\u001b[38;5;241;43m.\u001b[39;49m\u001b[43mtake_nd\u001b[49m\u001b[43m(\u001b[49m\n\u001b[0;32m    689\u001b[0m \u001b[43m            \u001b[49m\u001b[43mindexer\u001b[49m\u001b[43m,\u001b[49m\n\u001b[0;32m    690\u001b[0m \u001b[43m            \u001b[49m\u001b[43maxis\u001b[49m\u001b[38;5;241;43m=\u001b[39;49m\u001b[38;5;241;43m1\u001b[39;49m\u001b[43m,\u001b[49m\n\u001b[0;32m    691\u001b[0m \u001b[43m            \u001b[49m\u001b[43mfill_value\u001b[49m\u001b[38;5;241;43m=\u001b[39;49m\u001b[43m(\u001b[49m\n\u001b[0;32m    692\u001b[0m \u001b[43m                \u001b[49m\u001b[43mfill_value\u001b[49m\u001b[43m \u001b[49m\u001b[38;5;28;43;01mif\u001b[39;49;00m\u001b[43m \u001b[49m\u001b[43mfill_value\u001b[49m\u001b[43m \u001b[49m\u001b[38;5;129;43;01mis\u001b[39;49;00m\u001b[43m \u001b[49m\u001b[38;5;129;43;01mnot\u001b[39;49;00m\u001b[43m \u001b[49m\u001b[38;5;28;43;01mNone\u001b[39;49;00m\u001b[43m \u001b[49m\u001b[38;5;28;43;01melse\u001b[39;49;00m\u001b[43m \u001b[49m\u001b[43mblk\u001b[49m\u001b[38;5;241;43m.\u001b[39;49m\u001b[43mfill_value\u001b[49m\n\u001b[0;32m    693\u001b[0m \u001b[43m            \u001b[49m\u001b[43m)\u001b[49m\u001b[43m,\u001b[49m\n\u001b[0;32m    694\u001b[0m \u001b[43m        \u001b[49m\u001b[43m)\u001b[49m\n\u001b[0;32m    695\u001b[0m         \u001b[38;5;28;01mfor\u001b[39;00m blk \u001b[38;5;129;01min\u001b[39;00m \u001b[38;5;28mself\u001b[39m\u001b[38;5;241m.\u001b[39mblocks\n\u001b[0;32m    696\u001b[0m     ]\n\u001b[0;32m    698\u001b[0m new_axes \u001b[38;5;241m=\u001b[39m \u001b[38;5;28mlist\u001b[39m(\u001b[38;5;28mself\u001b[39m\u001b[38;5;241m.\u001b[39maxes)\n\u001b[0;32m    699\u001b[0m new_axes[axis] \u001b[38;5;241m=\u001b[39m new_axis\n",
      "File \u001b[1;32mc:\\Users\\k-bur\\OneDrive\\Documents\\Python Scripts\\Recommender\\.venv\\lib\\site-packages\\pandas\\core\\internals\\blocks.py:1307\u001b[0m, in \u001b[0;36mBlock.take_nd\u001b[1;34m(self, indexer, axis, new_mgr_locs, fill_value)\u001b[0m\n\u001b[0;32m   1304\u001b[0m     allow_fill \u001b[38;5;241m=\u001b[39m \u001b[38;5;28;01mTrue\u001b[39;00m\n\u001b[0;32m   1306\u001b[0m \u001b[38;5;66;03m# Note: algos.take_nd has upcast logic similar to coerce_to_target_dtype\u001b[39;00m\n\u001b[1;32m-> 1307\u001b[0m new_values \u001b[38;5;241m=\u001b[39m \u001b[43malgos\u001b[49m\u001b[38;5;241;43m.\u001b[39;49m\u001b[43mtake_nd\u001b[49m\u001b[43m(\u001b[49m\n\u001b[0;32m   1308\u001b[0m \u001b[43m    \u001b[49m\u001b[43mvalues\u001b[49m\u001b[43m,\u001b[49m\u001b[43m \u001b[49m\u001b[43mindexer\u001b[49m\u001b[43m,\u001b[49m\u001b[43m \u001b[49m\u001b[43maxis\u001b[49m\u001b[38;5;241;43m=\u001b[39;49m\u001b[43maxis\u001b[49m\u001b[43m,\u001b[49m\u001b[43m \u001b[49m\u001b[43mallow_fill\u001b[49m\u001b[38;5;241;43m=\u001b[39;49m\u001b[43mallow_fill\u001b[49m\u001b[43m,\u001b[49m\u001b[43m \u001b[49m\u001b[43mfill_value\u001b[49m\u001b[38;5;241;43m=\u001b[39;49m\u001b[43mfill_value\u001b[49m\n\u001b[0;32m   1309\u001b[0m \u001b[43m\u001b[49m\u001b[43m)\u001b[49m\n\u001b[0;32m   1311\u001b[0m \u001b[38;5;66;03m# Called from three places in managers, all of which satisfy\u001b[39;00m\n\u001b[0;32m   1312\u001b[0m \u001b[38;5;66;03m#  these assertions\u001b[39;00m\n\u001b[0;32m   1313\u001b[0m \u001b[38;5;28;01mif\u001b[39;00m \u001b[38;5;28misinstance\u001b[39m(\u001b[38;5;28mself\u001b[39m, ExtensionBlock):\n\u001b[0;32m   1314\u001b[0m     \u001b[38;5;66;03m# NB: in this case, the 'axis' kwarg will be ignored in the\u001b[39;00m\n\u001b[0;32m   1315\u001b[0m     \u001b[38;5;66;03m#  algos.take_nd call above.\u001b[39;00m\n",
      "File \u001b[1;32mc:\\Users\\k-bur\\OneDrive\\Documents\\Python Scripts\\Recommender\\.venv\\lib\\site-packages\\pandas\\core\\array_algos\\take.py:117\u001b[0m, in \u001b[0;36mtake_nd\u001b[1;34m(arr, indexer, axis, fill_value, allow_fill)\u001b[0m\n\u001b[0;32m    114\u001b[0m     \u001b[38;5;28;01mreturn\u001b[39;00m arr\u001b[38;5;241m.\u001b[39mtake(indexer, fill_value\u001b[38;5;241m=\u001b[39mfill_value, allow_fill\u001b[38;5;241m=\u001b[39mallow_fill)\n\u001b[0;32m    116\u001b[0m arr \u001b[38;5;241m=\u001b[39m np\u001b[38;5;241m.\u001b[39masarray(arr)\n\u001b[1;32m--> 117\u001b[0m \u001b[38;5;28;01mreturn\u001b[39;00m \u001b[43m_take_nd_ndarray\u001b[49m\u001b[43m(\u001b[49m\u001b[43marr\u001b[49m\u001b[43m,\u001b[49m\u001b[43m \u001b[49m\u001b[43mindexer\u001b[49m\u001b[43m,\u001b[49m\u001b[43m \u001b[49m\u001b[43maxis\u001b[49m\u001b[43m,\u001b[49m\u001b[43m \u001b[49m\u001b[43mfill_value\u001b[49m\u001b[43m,\u001b[49m\u001b[43m \u001b[49m\u001b[43mallow_fill\u001b[49m\u001b[43m)\u001b[49m\n",
      "File \u001b[1;32mc:\\Users\\k-bur\\OneDrive\\Documents\\Python Scripts\\Recommender\\.venv\\lib\\site-packages\\pandas\\core\\array_algos\\take.py:162\u001b[0m, in \u001b[0;36m_take_nd_ndarray\u001b[1;34m(arr, indexer, axis, fill_value, allow_fill)\u001b[0m\n\u001b[0;32m    157\u001b[0m     out \u001b[38;5;241m=\u001b[39m np\u001b[38;5;241m.\u001b[39mempty(out_shape, dtype\u001b[38;5;241m=\u001b[39mdtype)\n\u001b[0;32m    159\u001b[0m func \u001b[38;5;241m=\u001b[39m _get_take_nd_function(\n\u001b[0;32m    160\u001b[0m     arr\u001b[38;5;241m.\u001b[39mndim, arr\u001b[38;5;241m.\u001b[39mdtype, out\u001b[38;5;241m.\u001b[39mdtype, axis\u001b[38;5;241m=\u001b[39maxis, mask_info\u001b[38;5;241m=\u001b[39mmask_info\n\u001b[0;32m    161\u001b[0m )\n\u001b[1;32m--> 162\u001b[0m \u001b[43mfunc\u001b[49m\u001b[43m(\u001b[49m\u001b[43marr\u001b[49m\u001b[43m,\u001b[49m\u001b[43m \u001b[49m\u001b[43mindexer\u001b[49m\u001b[43m,\u001b[49m\u001b[43m \u001b[49m\u001b[43mout\u001b[49m\u001b[43m,\u001b[49m\u001b[43m \u001b[49m\u001b[43mfill_value\u001b[49m\u001b[43m)\u001b[49m\n\u001b[0;32m    164\u001b[0m \u001b[38;5;28;01mif\u001b[39;00m flip_order:\n\u001b[0;32m    165\u001b[0m     out \u001b[38;5;241m=\u001b[39m out\u001b[38;5;241m.\u001b[39mT\n",
      "\u001b[1;31mKeyboardInterrupt\u001b[0m: "
     ]
    }
   ],
   "source": [
    "# I actually care only about user_id, book_id and rating of books that were read by the user\n",
    "\n",
    "interaction_df_clean = interaction_df[['user_id', 'book_id', 'rating']][interaction_df['is_read'] == 1]"
   ]
  },
  {
   "cell_type": "code",
   "execution_count": 8,
   "id": "e3268848",
   "metadata": {},
   "outputs": [
    {
     "data": {
      "application/vnd.microsoft.datawrangler.viewer.v0+json": {
       "columns": [
        {
         "name": "index",
         "rawType": "int64",
         "type": "integer"
        },
        {
         "name": "user_id",
         "rawType": "int64",
         "type": "integer"
        },
        {
         "name": "book_id",
         "rawType": "int64",
         "type": "integer"
        },
        {
         "name": "rating",
         "rawType": "int64",
         "type": "integer"
        }
       ],
       "ref": "040bec8d-9027-4a1f-83a5-65ea9d9317de",
       "rows": [
        [
         "0",
         "0",
         "948",
         "5"
        ],
        [
         "1",
         "0",
         "947",
         "5"
        ],
        [
         "2",
         "0",
         "946",
         "5"
        ],
        [
         "3",
         "0",
         "945",
         "5"
        ],
        [
         "4",
         "0",
         "944",
         "5"
        ],
        [
         "5",
         "0",
         "943",
         "5"
        ],
        [
         "6",
         "0",
         "942",
         "5"
        ],
        [
         "7",
         "0",
         "941",
         "5"
        ],
        [
         "8",
         "0",
         "940",
         "5"
        ],
        [
         "9",
         "0",
         "939",
         "5"
        ],
        [
         "10",
         "0",
         "938",
         "5"
        ],
        [
         "11",
         "0",
         "937",
         "4"
        ],
        [
         "12",
         "0",
         "936",
         "4"
        ],
        [
         "13",
         "0",
         "935",
         "4"
        ],
        [
         "14",
         "0",
         "934",
         "5"
        ],
        [
         "15",
         "0",
         "933",
         "4"
        ],
        [
         "16",
         "0",
         "932",
         "4"
        ],
        [
         "17",
         "0",
         "931",
         "5"
        ],
        [
         "18",
         "0",
         "930",
         "2"
        ],
        [
         "19",
         "0",
         "929",
         "4"
        ],
        [
         "20",
         "0",
         "928",
         "4"
        ],
        [
         "21",
         "0",
         "927",
         "5"
        ],
        [
         "22",
         "0",
         "926",
         "3"
        ],
        [
         "23",
         "0",
         "925",
         "4"
        ],
        [
         "24",
         "0",
         "924",
         "5"
        ],
        [
         "25",
         "0",
         "923",
         "5"
        ],
        [
         "26",
         "0",
         "922",
         "5"
        ],
        [
         "27",
         "0",
         "921",
         "4"
        ],
        [
         "28",
         "0",
         "920",
         "5"
        ],
        [
         "29",
         "0",
         "919",
         "5"
        ],
        [
         "30",
         "0",
         "918",
         "5"
        ],
        [
         "31",
         "0",
         "917",
         "3"
        ],
        [
         "32",
         "0",
         "916",
         "5"
        ],
        [
         "33",
         "0",
         "915",
         "5"
        ],
        [
         "34",
         "0",
         "914",
         "4"
        ],
        [
         "36",
         "0",
         "912",
         "5"
        ],
        [
         "39",
         "0",
         "909",
         "4"
        ],
        [
         "40",
         "0",
         "908",
         "4"
        ],
        [
         "43",
         "0",
         "905",
         "4"
        ],
        [
         "45",
         "0",
         "903",
         "5"
        ],
        [
         "47",
         "0",
         "901",
         "4"
        ],
        [
         "48",
         "0",
         "900",
         "4"
        ],
        [
         "49",
         "0",
         "899",
         "4"
        ],
        [
         "50",
         "0",
         "898",
         "3"
        ],
        [
         "51",
         "0",
         "897",
         "5"
        ],
        [
         "53",
         "0",
         "895",
         "5"
        ],
        [
         "55",
         "0",
         "893",
         "4"
        ],
        [
         "56",
         "0",
         "892",
         "5"
        ],
        [
         "57",
         "0",
         "891",
         "4"
        ],
        [
         "58",
         "0",
         "890",
         "5"
        ]
       ],
       "shape": {
        "columns": 3,
        "rows": 112131203
       }
      },
      "text/html": [
       "<div>\n",
       "<style scoped>\n",
       "    .dataframe tbody tr th:only-of-type {\n",
       "        vertical-align: middle;\n",
       "    }\n",
       "\n",
       "    .dataframe tbody tr th {\n",
       "        vertical-align: top;\n",
       "    }\n",
       "\n",
       "    .dataframe thead th {\n",
       "        text-align: right;\n",
       "    }\n",
       "</style>\n",
       "<table border=\"1\" class=\"dataframe\">\n",
       "  <thead>\n",
       "    <tr style=\"text-align: right;\">\n",
       "      <th></th>\n",
       "      <th>user_id</th>\n",
       "      <th>book_id</th>\n",
       "      <th>rating</th>\n",
       "    </tr>\n",
       "  </thead>\n",
       "  <tbody>\n",
       "    <tr>\n",
       "      <th>0</th>\n",
       "      <td>0</td>\n",
       "      <td>948</td>\n",
       "      <td>5</td>\n",
       "    </tr>\n",
       "    <tr>\n",
       "      <th>1</th>\n",
       "      <td>0</td>\n",
       "      <td>947</td>\n",
       "      <td>5</td>\n",
       "    </tr>\n",
       "    <tr>\n",
       "      <th>2</th>\n",
       "      <td>0</td>\n",
       "      <td>946</td>\n",
       "      <td>5</td>\n",
       "    </tr>\n",
       "    <tr>\n",
       "      <th>3</th>\n",
       "      <td>0</td>\n",
       "      <td>945</td>\n",
       "      <td>5</td>\n",
       "    </tr>\n",
       "    <tr>\n",
       "      <th>4</th>\n",
       "      <td>0</td>\n",
       "      <td>944</td>\n",
       "      <td>5</td>\n",
       "    </tr>\n",
       "    <tr>\n",
       "      <th>...</th>\n",
       "      <td>...</td>\n",
       "      <td>...</td>\n",
       "      <td>...</td>\n",
       "    </tr>\n",
       "    <tr>\n",
       "      <th>228648336</th>\n",
       "      <td>876144</td>\n",
       "      <td>367428</td>\n",
       "      <td>3</td>\n",
       "    </tr>\n",
       "    <tr>\n",
       "      <th>228648338</th>\n",
       "      <td>876144</td>\n",
       "      <td>23847</td>\n",
       "      <td>4</td>\n",
       "    </tr>\n",
       "    <tr>\n",
       "      <th>228648339</th>\n",
       "      <td>876144</td>\n",
       "      <td>23950</td>\n",
       "      <td>3</td>\n",
       "    </tr>\n",
       "    <tr>\n",
       "      <th>228648340</th>\n",
       "      <td>876144</td>\n",
       "      <td>374106</td>\n",
       "      <td>5</td>\n",
       "    </tr>\n",
       "    <tr>\n",
       "      <th>228648341</th>\n",
       "      <td>876144</td>\n",
       "      <td>351607</td>\n",
       "      <td>5</td>\n",
       "    </tr>\n",
       "  </tbody>\n",
       "</table>\n",
       "<p>112131203 rows × 3 columns</p>\n",
       "</div>"
      ],
      "text/plain": [
       "           user_id  book_id  rating\n",
       "0                0      948       5\n",
       "1                0      947       5\n",
       "2                0      946       5\n",
       "3                0      945       5\n",
       "4                0      944       5\n",
       "...            ...      ...     ...\n",
       "228648336   876144   367428       3\n",
       "228648338   876144    23847       4\n",
       "228648339   876144    23950       3\n",
       "228648340   876144   374106       5\n",
       "228648341   876144   351607       5\n",
       "\n",
       "[112131203 rows x 3 columns]"
      ]
     },
     "execution_count": 8,
     "metadata": {},
     "output_type": "execute_result"
    }
   ],
   "source": [
    "interaction_df_clean"
   ]
  },
  {
   "cell_type": "code",
   "execution_count": 9,
   "id": "6542db10",
   "metadata": {},
   "outputs": [
    {
     "data": {
      "application/vnd.microsoft.datawrangler.viewer.v0+json": {
       "columns": [
        {
         "name": "user_id",
         "rawType": "int64",
         "type": "integer"
        },
        {
         "name": "book_id",
         "rawType": "int64",
         "type": "integer"
        }
       ],
       "ref": "1b482d78-0760-4663-add4-0be5fbca1109",
       "rows": [
        [
         "0",
         "482"
        ],
        [
         "1",
         "103"
        ],
        [
         "2",
         "191"
        ],
        [
         "3",
         "108"
        ],
        [
         "4",
         "182"
        ],
        [
         "5",
         "428"
        ],
        [
         "6",
         "105"
        ],
        [
         "7",
         "37"
        ],
        [
         "8",
         "242"
        ],
        [
         "9",
         "167"
        ],
        [
         "10",
         "4"
        ],
        [
         "11",
         "192"
        ],
        [
         "12",
         "68"
        ],
        [
         "13",
         "406"
        ],
        [
         "14",
         "1188"
        ],
        [
         "15",
         "333"
        ],
        [
         "16",
         "199"
        ],
        [
         "17",
         "54"
        ],
        [
         "18",
         "156"
        ],
        [
         "19",
         "88"
        ],
        [
         "20",
         "458"
        ],
        [
         "21",
         "239"
        ],
        [
         "22",
         "302"
        ],
        [
         "23",
         "204"
        ],
        [
         "24",
         "449"
        ],
        [
         "25",
         "26"
        ],
        [
         "26",
         "102"
        ],
        [
         "27",
         "113"
        ],
        [
         "28",
         "743"
        ],
        [
         "29",
         "198"
        ],
        [
         "30",
         "621"
        ],
        [
         "31",
         "302"
        ],
        [
         "32",
         "351"
        ],
        [
         "33",
         "103"
        ],
        [
         "34",
         "387"
        ],
        [
         "35",
         "165"
        ],
        [
         "36",
         "212"
        ],
        [
         "37",
         "75"
        ],
        [
         "38",
         "205"
        ],
        [
         "39",
         "301"
        ],
        [
         "40",
         "53"
        ],
        [
         "41",
         "283"
        ],
        [
         "42",
         "163"
        ],
        [
         "43",
         "136"
        ],
        [
         "44",
         "76"
        ],
        [
         "45",
         "149"
        ],
        [
         "46",
         "13"
        ],
        [
         "47",
         "71"
        ],
        [
         "48",
         "23"
        ],
        [
         "49",
         "85"
        ]
       ],
       "shape": {
        "columns": 1,
        "rows": 836433
       }
      },
      "text/plain": [
       "user_id\n",
       "0         482\n",
       "1         103\n",
       "2         191\n",
       "3         108\n",
       "4         182\n",
       "         ... \n",
       "876140     14\n",
       "876141     11\n",
       "876142     32\n",
       "876143     23\n",
       "876144     41\n",
       "Name: book_id, Length: 836433, dtype: int64"
      ]
     },
     "execution_count": 9,
     "metadata": {},
     "output_type": "execute_result"
    }
   ],
   "source": [
    "# Group by user_id and count unique book_ids\n",
    "books_per_user = interaction_df_clean.groupby('user_id')['book_id'].nunique()\n",
    "\n",
    "books_per_user"
   ]
  },
  {
   "cell_type": "code",
   "execution_count": 10,
   "id": "570263bb",
   "metadata": {},
   "outputs": [
    {
     "data": {
      "application/vnd.microsoft.datawrangler.viewer.v0+json": {
       "columns": [
        {
         "name": "index",
         "rawType": "object",
         "type": "string"
        },
        {
         "name": "book_id",
         "rawType": "float64",
         "type": "float"
        }
       ],
       "ref": "622cc8a9-6d5f-428e-98b1-7f1c4533c7c2",
       "rows": [
        [
         "count",
         "836433.0"
        ],
        [
         "mean",
         "134.05879849312498"
        ],
        [
         "std",
         "245.6293876370807"
        ],
        [
         "min",
         "1.0"
        ],
        [
         "25%",
         "23.0"
        ],
        [
         "50%",
         "59.0"
        ],
        [
         "75%",
         "149.0"
        ],
        [
         "max",
         "38895.0"
        ]
       ],
       "shape": {
        "columns": 1,
        "rows": 8
       }
      },
      "text/plain": [
       "count    836433.000000\n",
       "mean        134.058798\n",
       "std         245.629388\n",
       "min           1.000000\n",
       "25%          23.000000\n",
       "50%          59.000000\n",
       "75%         149.000000\n",
       "max       38895.000000\n",
       "Name: book_id, dtype: float64"
      ]
     },
     "execution_count": 10,
     "metadata": {},
     "output_type": "execute_result"
    }
   ],
   "source": [
    "books_per_user.describe()"
   ]
  },
  {
   "cell_type": "code",
   "execution_count": 11,
   "id": "fd9dda5e",
   "metadata": {},
   "outputs": [
    {
     "data": {
      "text/plain": [
       "np.float64(1101.0)"
      ]
     },
     "execution_count": 11,
     "metadata": {},
     "output_type": "execute_result"
    }
   ],
   "source": [
    "percentile = books_per_user.quantile(0.99)\n",
    "percentile"
   ]
  },
  {
   "cell_type": "code",
   "execution_count": 12,
   "id": "17becbc0",
   "metadata": {},
   "outputs": [
    {
     "data": {
      "image/png": "[encoded data removed]",
      "text/plain": [
       "<Figure size 800x500 with 1 Axes>"
      ]
     },
     "metadata": {},
     "output_type": "display_data"
    }
   ],
   "source": [
    "import matplotlib.pyplot as plt\n",
    "\n",
    "plt.figure(figsize=(8, 5))\n",
    "books_per_user.plot(kind='hist', bins=30)\n",
    "plt.xlabel('Number of Books Read')\n",
    "plt.ylabel('Number of Users')\n",
    "plt.title('Distribution of Books Read per User')\n",
    "plt.grid(True)\n",
    "plt.tight_layout()\n",
    "plt.show()"
   ]
  },
  {
   "cell_type": "code",
   "execution_count": 13,
   "id": "b4e32403",
   "metadata": {},
   "outputs": [
    {
     "data": {
      "application/vnd.microsoft.datawrangler.viewer.v0+json": {
       "columns": [
        {
         "name": "index",
         "rawType": "int64",
         "type": "integer"
        },
        {
         "name": "user_id",
         "rawType": "int64",
         "type": "integer"
        },
        {
         "name": "book_id",
         "rawType": "int64",
         "type": "integer"
        },
        {
         "name": "rating",
         "rawType": "int64",
         "type": "integer"
        }
       ],
       "ref": "6f62dfc2-1738-4adb-a8c1-328dc7226bf8",
       "rows": [
        [
         "0",
         "0",
         "948",
         "5"
        ],
        [
         "1",
         "0",
         "947",
         "5"
        ],
        [
         "2",
         "0",
         "946",
         "5"
        ],
        [
         "3",
         "0",
         "945",
         "5"
        ],
        [
         "4",
         "0",
         "944",
         "5"
        ],
        [
         "5",
         "0",
         "943",
         "5"
        ],
        [
         "6",
         "0",
         "942",
         "5"
        ],
        [
         "7",
         "0",
         "941",
         "5"
        ],
        [
         "8",
         "0",
         "940",
         "5"
        ],
        [
         "9",
         "0",
         "939",
         "5"
        ],
        [
         "10",
         "0",
         "938",
         "5"
        ],
        [
         "11",
         "0",
         "937",
         "4"
        ],
        [
         "12",
         "0",
         "936",
         "4"
        ],
        [
         "13",
         "0",
         "935",
         "4"
        ],
        [
         "14",
         "0",
         "934",
         "5"
        ],
        [
         "15",
         "0",
         "933",
         "4"
        ],
        [
         "16",
         "0",
         "932",
         "4"
        ],
        [
         "17",
         "0",
         "931",
         "5"
        ],
        [
         "18",
         "0",
         "930",
         "2"
        ],
        [
         "19",
         "0",
         "929",
         "4"
        ],
        [
         "20",
         "0",
         "928",
         "4"
        ],
        [
         "21",
         "0",
         "927",
         "5"
        ],
        [
         "22",
         "0",
         "926",
         "3"
        ],
        [
         "23",
         "0",
         "925",
         "4"
        ],
        [
         "24",
         "0",
         "924",
         "5"
        ],
        [
         "25",
         "0",
         "923",
         "5"
        ],
        [
         "26",
         "0",
         "922",
         "5"
        ],
        [
         "27",
         "0",
         "921",
         "4"
        ],
        [
         "28",
         "0",
         "920",
         "5"
        ],
        [
         "29",
         "0",
         "919",
         "5"
        ],
        [
         "30",
         "0",
         "918",
         "5"
        ],
        [
         "31",
         "0",
         "917",
         "3"
        ],
        [
         "32",
         "0",
         "916",
         "5"
        ],
        [
         "33",
         "0",
         "915",
         "5"
        ],
        [
         "34",
         "0",
         "914",
         "4"
        ],
        [
         "36",
         "0",
         "912",
         "5"
        ],
        [
         "39",
         "0",
         "909",
         "4"
        ],
        [
         "40",
         "0",
         "908",
         "4"
        ],
        [
         "43",
         "0",
         "905",
         "4"
        ],
        [
         "45",
         "0",
         "903",
         "5"
        ],
        [
         "47",
         "0",
         "901",
         "4"
        ],
        [
         "48",
         "0",
         "900",
         "4"
        ],
        [
         "49",
         "0",
         "899",
         "4"
        ],
        [
         "50",
         "0",
         "898",
         "3"
        ],
        [
         "51",
         "0",
         "897",
         "5"
        ],
        [
         "53",
         "0",
         "895",
         "5"
        ],
        [
         "55",
         "0",
         "893",
         "4"
        ],
        [
         "56",
         "0",
         "892",
         "5"
        ],
        [
         "57",
         "0",
         "891",
         "4"
        ],
        [
         "58",
         "0",
         "890",
         "5"
        ]
       ],
       "shape": {
        "columns": 3,
        "rows": 97753019
       }
      },
      "text/html": [
       "<div>\n",
       "<style scoped>\n",
       "    .dataframe tbody tr th:only-of-type {\n",
       "        vertical-align: middle;\n",
       "    }\n",
       "\n",
       "    .dataframe tbody tr th {\n",
       "        vertical-align: top;\n",
       "    }\n",
       "\n",
       "    .dataframe thead th {\n",
       "        text-align: right;\n",
       "    }\n",
       "</style>\n",
       "<table border=\"1\" class=\"dataframe\">\n",
       "  <thead>\n",
       "    <tr style=\"text-align: right;\">\n",
       "      <th></th>\n",
       "      <th>user_id</th>\n",
       "      <th>book_id</th>\n",
       "      <th>rating</th>\n",
       "    </tr>\n",
       "  </thead>\n",
       "  <tbody>\n",
       "    <tr>\n",
       "      <th>0</th>\n",
       "      <td>0</td>\n",
       "      <td>948</td>\n",
       "      <td>5</td>\n",
       "    </tr>\n",
       "    <tr>\n",
       "      <th>1</th>\n",
       "      <td>0</td>\n",
       "      <td>947</td>\n",
       "      <td>5</td>\n",
       "    </tr>\n",
       "    <tr>\n",
       "      <th>2</th>\n",
       "      <td>0</td>\n",
       "      <td>946</td>\n",
       "      <td>5</td>\n",
       "    </tr>\n",
       "    <tr>\n",
       "      <th>3</th>\n",
       "      <td>0</td>\n",
       "      <td>945</td>\n",
       "      <td>5</td>\n",
       "    </tr>\n",
       "    <tr>\n",
       "      <th>4</th>\n",
       "      <td>0</td>\n",
       "      <td>944</td>\n",
       "      <td>5</td>\n",
       "    </tr>\n",
       "    <tr>\n",
       "      <th>...</th>\n",
       "      <td>...</td>\n",
       "      <td>...</td>\n",
       "      <td>...</td>\n",
       "    </tr>\n",
       "    <tr>\n",
       "      <th>228648336</th>\n",
       "      <td>876144</td>\n",
       "      <td>367428</td>\n",
       "      <td>3</td>\n",
       "    </tr>\n",
       "    <tr>\n",
       "      <th>228648338</th>\n",
       "      <td>876144</td>\n",
       "      <td>23847</td>\n",
       "      <td>4</td>\n",
       "    </tr>\n",
       "    <tr>\n",
       "      <th>228648339</th>\n",
       "      <td>876144</td>\n",
       "      <td>23950</td>\n",
       "      <td>3</td>\n",
       "    </tr>\n",
       "    <tr>\n",
       "      <th>228648340</th>\n",
       "      <td>876144</td>\n",
       "      <td>374106</td>\n",
       "      <td>5</td>\n",
       "    </tr>\n",
       "    <tr>\n",
       "      <th>228648341</th>\n",
       "      <td>876144</td>\n",
       "      <td>351607</td>\n",
       "      <td>5</td>\n",
       "    </tr>\n",
       "  </tbody>\n",
       "</table>\n",
       "<p>97753019 rows × 3 columns</p>\n",
       "</div>"
      ],
      "text/plain": [
       "           user_id  book_id  rating\n",
       "0                0      948       5\n",
       "1                0      947       5\n",
       "2                0      946       5\n",
       "3                0      945       5\n",
       "4                0      944       5\n",
       "...            ...      ...     ...\n",
       "228648336   876144   367428       3\n",
       "228648338   876144    23847       4\n",
       "228648339   876144    23950       3\n",
       "228648340   876144   374106       5\n",
       "228648341   876144   351607       5\n",
       "\n",
       "[97753019 rows x 3 columns]"
      ]
     },
     "execution_count": 13,
     "metadata": {},
     "output_type": "execute_result"
    }
   ],
   "source": [
    "#Compute the 99th percentile\n",
    "threshold_99 = books_per_user.quantile(0.99)\n",
    "\n",
    "# Step 3: Identify users at or below the threshold\n",
    "valid_users = books_per_user[books_per_user <= threshold_99].index\n",
    "\n",
    "# Step 4: Filter the original dataframe\n",
    "filtered_df = interaction_df_clean[interaction_df_clean['user_id'].isin(valid_users)]\n",
    "filtered_df"
   ]
  },
  {
   "cell_type": "code",
   "execution_count": 23,
   "id": "b3d9825d",
   "metadata": {},
   "outputs": [],
   "source": [
    "# This is not working as the resulting array is to large\n",
    "# rating_matrix = filtered_df.pivot_table(\n",
    "#     index = ['user_id']\n",
    "#     , columns = ['book_id']\n",
    "#     , values = 'rating')\n",
    "\n",
    "# rating_matrix.head()"
   ]
  },
  {
   "cell_type": "code",
   "execution_count": 14,
   "id": "aa5ded9d",
   "metadata": {},
   "outputs": [
    {
     "name": "stderr",
     "output_type": "stream",
     "text": [
      "C:\\Users\\k-bur\\AppData\\Local\\Temp\\ipykernel_25056\\2021380138.py:8: SettingWithCopyWarning: \n",
      "A value is trying to be set on a copy of a slice from a DataFrame.\n",
      "Try using .loc[row_indexer,col_indexer] = value instead\n",
      "\n",
      "See the caveats in the documentation: https://pandas.pydata.org/pandas-docs/stable/user_guide/indexing.html#returning-a-view-versus-a-copy\n",
      "  filtered_df['user_idx'] = user_encoder.fit_transform(filtered_df['user_id'])\n",
      "C:\\Users\\k-bur\\AppData\\Local\\Temp\\ipykernel_25056\\2021380138.py:9: SettingWithCopyWarning: \n",
      "A value is trying to be set on a copy of a slice from a DataFrame.\n",
      "Try using .loc[row_indexer,col_indexer] = value instead\n",
      "\n",
      "See the caveats in the documentation: https://pandas.pydata.org/pandas-docs/stable/user_guide/indexing.html#returning-a-view-versus-a-copy\n",
      "  filtered_df['book_idx'] = book_encoder.fit_transform(filtered_df['book_id'])\n"
     ]
    },
    {
     "name": "stdout",
     "output_type": "stream",
     "text": [
      "(828084, 2197169)\n"
     ]
    }
   ],
   "source": [
    "from scipy.sparse import csr_matrix\n",
    "from sklearn.preprocessing import LabelEncoder\n",
    "\n",
    "# Encode user_ids and book_ids as numeric\n",
    "user_encoder = LabelEncoder()\n",
    "book_encoder = LabelEncoder()\n",
    "\n",
    "filtered_df['user_idx'] = user_encoder.fit_transform(filtered_df['user_id'])\n",
    "filtered_df['book_idx'] = book_encoder.fit_transform(filtered_df['book_id'])\n",
    "\n",
    "# Create sparse matrix\n",
    "sparse_matrix = csr_matrix(\n",
    "    (filtered_df['rating'], (filtered_df['user_idx'], filtered_df['book_idx']))\n",
    ")\n",
    "\n",
    "print(sparse_matrix.shape)  # (num_users, num_books)"
   ]
  },
  {
   "cell_type": "code",
   "execution_count": null,
   "id": "844b6938",
   "metadata": {},
   "outputs": [],
   "source": [
    "# # cosine similarity\n",
    "# from sklearn.metrics.pairwise import cosine_similarity\n",
    "\n",
    "# # Compute cosine similarity between users\n",
    "# user_sim_matrix = cosine_similarity(sparse_matrix)"
   ]
  },
  {
   "cell_type": "code",
   "execution_count": null,
   "id": "de8aec2b",
   "metadata": {},
   "outputs": [],
   "source": [
    "from sklearn.metrics.pairwise import cosine_similarity\n",
    "import numpy as np\n",
    "\n",
    "def top_k_similar_users(sparse_matrix, k=10):\n",
    "    sim_matrix = cosine_similarity(sparse_matrix, dense_output=False)\n",
    "    sim_matrix = sim_matrix.tolil()  # convert to LIL for efficient row operations\n",
    "\n",
    "    # Zero out all but top-k per row\n",
    "    for i in range(sim_matrix.shape[0]):\n",
    "        row = sim_matrix.data[i]\n",
    "        if len(row) > k:\n",
    "            top_k_idx = np.argsort(row)[-k:]\n",
    "            mask = np.ones(len(row), dtype=bool)\n",
    "            mask[top_k_idx] = False\n",
    "            for j in reversed(np.where(mask)[0]):\n",
    "                del sim_matrix.data[i][j]\n",
    "                del sim_matrix.rows[i][j]\n",
    "\n",
    "    return sim_matrix.tocsr()\n",
    "\n",
    "user_sim_topk = top_k_similar_users(sparse_matrix, k=10)"
   ]
  }
 ],
 "metadata": {
  "kernelspec": {
   "display_name": ".venv",
   "language": "python",
   "name": "python3"
  },
  "language_info": {
   "codemirror_mode": {
    "name": "ipython",
    "version": 3
   },
   "file_extension": ".py",
   "mimetype": "text/x-python",
   "name": "python",
   "nbconvert_exporter": "python",
   "pygments_lexer": "ipython3",
   "version": "3.9.12"
  }
 },
 "nbformat": 4,
 "nbformat_minor": 5
}
