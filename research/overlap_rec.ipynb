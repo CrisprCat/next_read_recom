{
 "cells": [
  {
   "cell_type": "code",
   "execution_count": 1,
   "id": "10e1dc23",
   "metadata": {},
   "outputs": [],
   "source": [
    "# Import data\n",
    "import pandas as pd\n",
    "\n",
    "interaction_df = pd.read_csv('goodreads_interactions.csv')\n",
    "\n",
    "interaction_df_clean = interaction_df[['user_id', 'book_id', 'rating']][interaction_df['is_read'] == 1]\n",
    "\n",
    "# Group by user_id and count unique book_ids\n",
    "books_per_user = interaction_df_clean.groupby('user_id')['book_id'].nunique()\n",
    "\n",
    "#Compute the 99th percentile\n",
    "threshold = books_per_user.quantile(0.95)\n",
    "\n",
    "# Step 3: Identify users at or below the threshold\n",
    "valid_users = books_per_user[books_per_user <= threshold].index\n",
    "\n",
    "# Step 4: Filter the original dataframe\n",
    "filtered_df = interaction_df_clean[interaction_df_clean['user_id'].isin(valid_users)]\n",
    "\n",
    "from collections import defaultdict\n",
    "\n",
    "user_items = filtered_df.groupby('user_id')['book_id'].apply(set).to_dict()"
   ]
  },
  {
   "cell_type": "code",
   "execution_count": 2,
   "id": "8713b001",
   "metadata": {},
   "outputs": [],
   "source": [
    "# def compute_overlap_similarity(user_items):\n",
    "#     similarity = defaultdict(dict)\n",
    "#     users = list(user_items.keys())\n",
    "\n",
    "#     for i in range(len(users)):\n",
    "#         for j in range(i + 1, len(users)):\n",
    "#             u1, u2 = users[i], users[j]\n",
    "#             books_u1 = user_items[u1]\n",
    "#             books_u2 = user_items[u2]\n",
    "            \n",
    "#             overlap = len(books_u1 & books_u2)\n",
    "#             if overlap > 0:\n",
    "#                 similarity[u1][u2] = overlap\n",
    "#                 similarity[u2][u1] = overlap\n",
    "                \n",
    "#     return similarity\n",
    "\n",
    "\n",
    "def recommend(user_id, user_items, similarity, top_k=5):\n",
    "    scores = defaultdict(int)\n",
    "\n",
    "    for other_user, sim_score in similarity.get(user_id, {}).items():\n",
    "        for book in user_items[other_user]:\n",
    "            if book not in user_items[user_id]:\n",
    "                scores[book] += sim_score\n",
    "\n",
    "    # Sort by score descending and return top_k book_ids\n",
    "    ranked_books = sorted(scores.items(), key=lambda x: -x[1])\n",
    "    return [book for book, _ in ranked_books[:top_k]]"
   ]
  },
  {
   "cell_type": "code",
   "execution_count": 9,
   "id": "b8ea6dbe",
   "metadata": {},
   "outputs": [],
   "source": [
    "import logging\n",
    "# from collections import defaultdict\n",
    "\n",
    "# Step 1: Configure logging once at the top of your script or notebook\n",
    "logging.basicConfig(level=logging.INFO, format='%(asctime)s - %(levelname)s - %(message)s')\n",
    "\n",
    "def compute_overlap_similarity(user_items, min_overlap=5):\n",
    "    similarity = defaultdict(dict)\n",
    "    users = list(user_items.keys())\n",
    "    total_users = len(users)\n",
    "\n",
    "    # Step 2: Iterate with logging progress\n",
    "    for i in range(total_users):\n",
    "        u1 = users[i]\n",
    "        books_u1 = user_items[u1]\n",
    "\n",
    "        # Log progress every 10 users\n",
    "        if i % 10 == 0:\n",
    "            logging.info(f\"Processing user {i+1}/{total_users}\")\n",
    "\n",
    "        for j in range(i + 1, total_users):\n",
    "            u2 = users[j]\n",
    "            books_u2 = user_items[u2]\n",
    "\n",
    "            overlap = len(books_u1 & books_u2)\n",
    "            if overlap > min_overlap:\n",
    "                similarity[u1][u2] = overlap\n",
    "                similarity[u2][u1] = overlap\n",
    "\n",
    "    logging.info(\"Similarity computation completed.\")\n",
    "    return similarity"
   ]
  },
  {
   "cell_type": "code",
   "execution_count": 10,
   "id": "7dcb0af3",
   "metadata": {},
   "outputs": [
    {
     "name": "stderr",
     "output_type": "stream",
     "text": [
      "2025-06-15 14:36:30,701 - INFO - Processing user 1/794674\n",
      "2025-06-15 14:36:48,750 - INFO - Processing user 11/794674\n"
     ]
    },
    {
     "ename": "KeyboardInterrupt",
     "evalue": "",
     "output_type": "error",
     "traceback": [
      "\u001b[1;31m---------------------------------------------------------------------------\u001b[0m",
      "\u001b[1;31mKeyboardInterrupt\u001b[0m                         Traceback (most recent call last)",
      "Cell \u001b[1;32mIn[10], line 6\u001b[0m\n\u001b[0;32m      1\u001b[0m \u001b[38;5;66;03m# Step 1: Prepare data\u001b[39;00m\n\u001b[0;32m      2\u001b[0m \u001b[38;5;66;03m# implicit_df = df[df['rating'] > 0]\u001b[39;00m\n\u001b[0;32m      3\u001b[0m \u001b[38;5;66;03m# user_items = implicit_df.groupby('user_id')['book_id'].apply(set).to_dict()\u001b[39;00m\n\u001b[0;32m      4\u001b[0m \n\u001b[0;32m      5\u001b[0m \u001b[38;5;66;03m# Step 2: Compute similarity\u001b[39;00m\n\u001b[1;32m----> 6\u001b[0m similarity \u001b[38;5;241m=\u001b[39m \u001b[43mcompute_overlap_similarity\u001b[49m\u001b[43m(\u001b[49m\u001b[43muser_items\u001b[49m\u001b[43m)\u001b[49m\n\u001b[0;32m      8\u001b[0m \u001b[38;5;66;03m# Step 3: Get recommendations\u001b[39;00m\n\u001b[0;32m      9\u001b[0m user_to_recommend \u001b[38;5;241m=\u001b[39m \u001b[38;5;241m2\u001b[39m\n",
      "Cell \u001b[1;32mIn[9], line 25\u001b[0m, in \u001b[0;36mcompute_overlap_similarity\u001b[1;34m(user_items, min_overlap)\u001b[0m\n\u001b[0;32m     22\u001b[0m u2 \u001b[38;5;241m=\u001b[39m users[j]\n\u001b[0;32m     23\u001b[0m books_u2 \u001b[38;5;241m=\u001b[39m user_items[u2]\n\u001b[1;32m---> 25\u001b[0m overlap \u001b[38;5;241m=\u001b[39m \u001b[38;5;28;43mlen\u001b[39;49m\u001b[43m(\u001b[49m\u001b[43mbooks_u1\u001b[49m\u001b[43m \u001b[49m\u001b[38;5;241;43m&\u001b[39;49m\u001b[43m \u001b[49m\u001b[43mbooks_u2\u001b[49m\u001b[43m)\u001b[49m\n\u001b[0;32m     26\u001b[0m \u001b[38;5;28;01mif\u001b[39;00m overlap \u001b[38;5;241m>\u001b[39m min_overlap:\n\u001b[0;32m     27\u001b[0m     similarity[u1][u2] \u001b[38;5;241m=\u001b[39m overlap\n",
      "\u001b[1;31mKeyboardInterrupt\u001b[0m: "
     ]
    }
   ],
   "source": [
    "# Step 1: Prepare data\n",
    "# implicit_df = df[df['rating'] > 0]\n",
    "# user_items = implicit_df.groupby('user_id')['book_id'].apply(set).to_dict()\n",
    "\n",
    "# Step 2: Compute similarity\n",
    "similarity = compute_overlap_similarity(user_items)\n",
    "\n",
    "# Step 3: Get recommendations\n",
    "user_to_recommend = 2\n",
    "recommendations = recommend(user_to_recommend, user_items, similarity, top_k=5)\n",
    "print(recommendations)"
   ]
  }
 ],
 "metadata": {
  "kernelspec": {
   "display_name": ".venv",
   "language": "python",
   "name": "python3"
  },
  "language_info": {
   "codemirror_mode": {
    "name": "ipython",
    "version": 3
   },
   "file_extension": ".py",
   "mimetype": "text/x-python",
   "name": "python",
   "nbconvert_exporter": "python",
   "pygments_lexer": "ipython3",
   "version": "3.9.12"
  }
 },
 "nbformat": 4,
 "nbformat_minor": 5
}
