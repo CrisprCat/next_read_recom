{
 "cells": [
  {
   "cell_type": "code",
   "execution_count": 1,
   "id": "54f0f710",
   "metadata": {},
   "outputs": [
    {
     "name": "stdout",
     "output_type": "stream",
     "text": [
      "+---+-----+\n",
      "| id| name|\n",
      "+---+-----+\n",
      "|  1|Alice|\n",
      "|  2|  Bob|\n",
      "+---+-----+\n",
      "\n"
     ]
    }
   ],
   "source": [
    "import os\n",
    "import sys\n",
    "from pyspark.sql import SparkSession\n",
    "\n",
    "# Use current virtualenv's Python\n",
    "os.environ[\"PYSPARK_PYTHON\"] = sys.executable\n",
    "os.environ[\"PYSPARK_DRIVER_PYTHON\"] = sys.executable\n",
    "\n",
    "spark = SparkSession.builder \\\n",
    "    .master(\"local[*]\") \\\n",
    "    .appName(\"test\") \\\n",
    "    .getOrCreate()\n",
    "\n",
    "# dummy input\n",
    "data = [{\"id\": 1, \"name\": \"Alice\"}, {\"id\": 2, \"name\": \"Bob\"}]\n",
    "dfs = spark.createDataFrame(data)\n",
    "dfs.show(5)"
   ]
  },
  {
   "cell_type": "code",
   "execution_count": 2,
   "id": "dcafaaf4",
   "metadata": {},
   "outputs": [],
   "source": [
    "# Import data\n",
    "import pandas as pd\n",
    "\n",
    "interaction_df = pd.read_csv('goodreads_interactions.csv')\n",
    "\n",
    "interaction_df_clean = interaction_df[['user_id', 'book_id', 'rating']][interaction_df['is_read'] == 1]\n",
    "\n",
    "# Group by user_id and count unique book_ids\n",
    "books_per_user = interaction_df_clean.groupby('user_id')['book_id'].nunique()\n",
    "\n",
    "#Compute the 99th percentile\n",
    "threshold = books_per_user.quantile(0.95)\n",
    "\n",
    "# Step 3: Identify users at or below the threshold\n",
    "valid_users = books_per_user[books_per_user <= threshold].index\n",
    "\n",
    "\n",
    "\n",
    "# from collections import defaultdict\n",
    "\n",
    "# user_items = filtered_df.groupby('user_id')['book_id'].apply(set).to_dict()\n"
   ]
  },
  {
   "cell_type": "code",
   "execution_count": 3,
   "id": "5bfcb89f",
   "metadata": {},
   "outputs": [
    {
     "data": {
      "application/vnd.microsoft.datawrangler.viewer.v0+json": {
       "columns": [
        {
         "name": "index",
         "rawType": "int64",
         "type": "integer"
        },
        {
         "name": "user_id",
         "rawType": "int64",
         "type": "integer"
        },
        {
         "name": "book_id",
         "rawType": "int64",
         "type": "integer"
        },
        {
         "name": "rating",
         "rawType": "int64",
         "type": "integer"
        }
       ],
       "ref": "07f70b11-e7b4-405c-9c1d-04e683bb9673",
       "rows": [
        [
         "181699697",
         "382396",
         "36143",
         "2"
        ],
        [
         "172956448",
         "361287",
         "8434",
         "3"
        ],
        [
         "16101228",
         "31603",
         "56353",
         "4"
        ],
        [
         "1419438",
         "2798",
         "377527",
         "5"
        ],
        [
         "213221926",
         "464725",
         "485419",
         "5"
        ]
       ],
       "shape": {
        "columns": 3,
        "rows": 5
       }
      },
      "text/html": [
       "<div>\n",
       "<style scoped>\n",
       "    .dataframe tbody tr th:only-of-type {\n",
       "        vertical-align: middle;\n",
       "    }\n",
       "\n",
       "    .dataframe tbody tr th {\n",
       "        vertical-align: top;\n",
       "    }\n",
       "\n",
       "    .dataframe thead th {\n",
       "        text-align: right;\n",
       "    }\n",
       "</style>\n",
       "<table border=\"1\" class=\"dataframe\">\n",
       "  <thead>\n",
       "    <tr style=\"text-align: right;\">\n",
       "      <th></th>\n",
       "      <th>user_id</th>\n",
       "      <th>book_id</th>\n",
       "      <th>rating</th>\n",
       "    </tr>\n",
       "  </thead>\n",
       "  <tbody>\n",
       "    <tr>\n",
       "      <th>181699697</th>\n",
       "      <td>382396</td>\n",
       "      <td>36143</td>\n",
       "      <td>2</td>\n",
       "    </tr>\n",
       "    <tr>\n",
       "      <th>172956448</th>\n",
       "      <td>361287</td>\n",
       "      <td>8434</td>\n",
       "      <td>3</td>\n",
       "    </tr>\n",
       "    <tr>\n",
       "      <th>16101228</th>\n",
       "      <td>31603</td>\n",
       "      <td>56353</td>\n",
       "      <td>4</td>\n",
       "    </tr>\n",
       "    <tr>\n",
       "      <th>1419438</th>\n",
       "      <td>2798</td>\n",
       "      <td>377527</td>\n",
       "      <td>5</td>\n",
       "    </tr>\n",
       "    <tr>\n",
       "      <th>213221926</th>\n",
       "      <td>464725</td>\n",
       "      <td>485419</td>\n",
       "      <td>5</td>\n",
       "    </tr>\n",
       "  </tbody>\n",
       "</table>\n",
       "</div>"
      ],
      "text/plain": [
       "           user_id  book_id  rating\n",
       "181699697   382396    36143       2\n",
       "172956448   361287     8434       3\n",
       "16101228     31603    56353       4\n",
       "1419438       2798   377527       5\n",
       "213221926   464725   485419       5"
      ]
     },
     "execution_count": 3,
     "metadata": {},
     "output_type": "execute_result"
    }
   ],
   "source": [
    "# Step 4: Filter the original dataframe\n",
    "filtered_df = interaction_df_clean[interaction_df_clean['user_id'].isin(valid_users)].sample(n=1000000, random_state=42)\n",
    "filtered_df.head()"
   ]
  },
  {
   "cell_type": "code",
   "execution_count": null,
   "id": "6549a79a",
   "metadata": {},
   "outputs": [],
   "source": [
    "import os\n",
    "import sys\n",
    "# os.environ[\"PYSPARK_SUBMIT_ARGS\"] = \"--driver-memory 14g pyspark-shell\"\n",
    "# Force Spark to use the current python interpreter!\n",
    "os.environ[\"PYSPARK_PYTHON\"] = sys.executable\n",
    "os.environ[\"PYSPARK_DRIVER_PYTHON\"] = sys.executable\n",
    "\n",
    "from pyspark.sql import SparkSession\n",
    "\n",
    "# initiate a new spark session\n",
    "# spark = SparkSession.builder.appName(name='GoodReadALS').getOrCreate()\n",
    "spark = SparkSession.builder \\\n",
    "    .master(\"local[*]\") \\\n",
    "    .appName(\"test\") \\\n",
    "    .getOrCreate()\n",
    "\n",
    "# spark.conf.set(\"spark.sql.execution.arrow.pyspark.enabled\", \"true\")\n",
    "\n"
   ]
  },
  {
   "cell_type": "code",
   "execution_count": 5,
   "id": "bb8db4fb",
   "metadata": {},
   "outputs": [],
   "source": [
    "# create spark dataframe \n",
    "\n",
    "dfs = spark.createDataFrame(filtered_df)"
   ]
  },
  {
   "cell_type": "code",
   "execution_count": 6,
   "id": "5413e6c2",
   "metadata": {},
   "outputs": [
    {
     "name": "stdout",
     "output_type": "stream",
     "text": [
      "+-------+-------+------+\n",
      "|user_id|book_id|rating|\n",
      "+-------+-------+------+\n",
      "| 382396|  36143|     2|\n",
      "| 361287|   8434|     3|\n",
      "|  31603|  56353|     4|\n",
      "|   2798| 377527|     5|\n",
      "| 464725| 485419|     5|\n",
      "+-------+-------+------+\n",
      "only showing top 5 rows\n"
     ]
    }
   ],
   "source": [
    "# # show first 5 rows of spark dataframe\n",
    "dfs.show(5)"
   ]
  },
  {
   "cell_type": "code",
   "execution_count": 7,
   "id": "c1b104db",
   "metadata": {},
   "outputs": [],
   "source": [
    "# rename cols as spark accepst 'user' & 'movie' col names\n",
    "dfs = dfs.withColumnsRenamed({\n",
    "    'user_id': 'user',\n",
    "    'book_id': 'book',\n",
    "})\n",
    "\n",
    "# split data in train & test sets \n",
    "dfs_train, dfs_test = dfs.randomSplit([0.8, 0.2], 42)"
   ]
  },
  {
   "cell_type": "code",
   "execution_count": null,
   "id": "fc92c519",
   "metadata": {},
   "outputs": [],
   "source": [
    "# # import ALS model from spark\n",
    "# from pyspark.ml.recommendation import ALS\n",
    "\n",
    "# # initialise the model \n",
    "# als = ALS(maxIter=10, regParam=0.1, rank=10, userCol=\"user\", itemCol=\"book\", \n",
    "#           ratingCol=\"rating\", coldStartStrategy=\"drop\", nonnegative=True)\n",
    "\n",
    "# # train model \n",
    "# als_model = als.fit(dfs_train)"
   ]
  },
  {
   "cell_type": "code",
   "execution_count": null,
   "id": "852de78e",
   "metadata": {},
   "outputs": [],
   "source": [
    "# # generate predictions\n",
    "# dfs_preds = als_model.transform(dfs_test)\n",
    "\n",
    "# # show preds dataframe\n",
    "# dfs_preds.show(5)"
   ]
  },
  {
   "cell_type": "code",
   "execution_count": null,
   "id": "2f73c7d2",
   "metadata": {},
   "outputs": [],
   "source": [
    "# from pyspark.ml.evaluation import RegressionEvaluator\n",
    "\n",
    "# # initiate evaluator\n",
    "# eval = RegressionEvaluator(metricName='rmse', labelCol='rating', predictionCol='prediction')\n",
    "# # calculate rmse\n",
    "# rmse = eval.evaluate(dfs_preds)\n",
    "\n",
    "# # reset metric and evaluate mse, R2, mae & explained variance\n",
    "# r2 = eval.evaluate(dfs_preds, {eval.metricName: 'r2'})\n",
    "# mae = eval.evaluate(dfs_preds, {eval.metricName: 'mae'})\n",
    "# var = eval.evaluate(dfs_preds, {eval.metricName: 'var'})\n",
    "\n",
    "\n",
    "# print(\n",
    "#     \"RMSE score = {}\".format(rmse),\n",
    "#     \"R2 score = {}\".format(r2),\n",
    "#     \"MAE score = {}\".format(mae),\n",
    "#     \"Explained variance score = {}\".format(var),\n",
    "#     sep=\"\\n\"\n",
    "# )"
   ]
  },
  {
   "cell_type": "code",
   "execution_count": 8,
   "id": "7ea09545",
   "metadata": {},
   "outputs": [],
   "source": [
    "from pyspark.ml.tuning import ParamGridBuilder, CrossValidator\n",
    "from pyspark.ml.evaluation import RegressionEvaluator\n",
    "from pyspark.ml.recommendation import ALS\n",
    "\n",
    "# initiate model without hyperparams\n",
    "# initialise the model\n",
    "als = ALS(userCol=\"user\", itemCol=\"book\", ratingCol=\"rating\", \n",
    "          coldStartStrategy=\"drop\", nonnegative=True)\n",
    "\n",
    "# create a hyperparameter grid\n",
    "param_grid = ParamGridBuilder().addGrid(\n",
    "    als.rank, [10]\n",
    "    ).addGrid(\n",
    "        als.maxIter, [10]\n",
    "    ).addGrid(\n",
    "        als.regParam, [0.05]\n",
    "    ).build()\n",
    "\n",
    "# create an evaluation metric\n",
    "eval = RegressionEvaluator(metricName='rmse', labelCol='rating', predictionCol='prediction')\n",
    "\n",
    "# use cross validator to run models\n",
    "cv = CrossValidator(\n",
    "    estimator=als, \n",
    "    estimatorParamMaps=param_grid,\n",
    "    evaluator=eval,\n",
    "    numFolds=3\n",
    ")\n",
    "\n",
    "als_model = cv.fit(dfs_train)\n",
    "\n",
    "# get rmse scores from trained model\n",
    "rmse_scores = als_model.avgMetrics\n",
    "# get params map\n",
    "param_maps = als_model.getEstimatorParamMaps()\n",
    "\n",
    "model_acc = []\n",
    "# iterate using zip \n",
    "for param_map, rmse in zip(param_maps, rmse_scores): \n",
    "  params = {param.name: value for param, value in param_map.items()}\n",
    "  params['rmse'] = rmse\n",
    "  model_acc.append(params)\n",
    "\n",
    "# convert model_acc data into a pandas DataFrame\n",
    "df_acc = pd.DataFrame(model_acc)"
   ]
  },
  {
   "cell_type": "code",
   "execution_count": 10,
   "id": "498bece7",
   "metadata": {},
   "outputs": [
    {
     "data": {
      "image/png": "[encoded data removed]",
      "text/plain": [
       "<Figure size 800x600 with 2 Axes>"
      ]
     },
     "metadata": {},
     "output_type": "display_data"
    }
   ],
   "source": [
    "import seaborn as sns\n",
    "import matplotlib.pyplot as plt\n",
    "\n",
    "\n",
    "# Pivot the DataFrame to create a grid for heatmap\n",
    "heatmap_data = df_acc.pivot(index='regParam', columns='rank', values='rmse')\n",
    "\n",
    "# Plot heatmap\n",
    "plt.figure(figsize=(8, 6))\n",
    "sns.heatmap(heatmap_data, annot=True, fmt=\".4f\", cmap='viridis', cbar_kws={'label': 'RMSE'})\n",
    "plt.title('Heatmap of RMSE by Rank and regParam')\n",
    "plt.xlabel('Rank')\n",
    "plt.ylabel('Regularization Parameter (regParam)')\n",
    "plt.show()"
   ]
  },
  {
   "cell_type": "code",
   "execution_count": 11,
   "id": "9023c81d",
   "metadata": {},
   "outputs": [
    {
     "data": {
      "image/png": "[encoded data removed]",
      "text/plain": [
       "<Figure size 1000x600 with 1 Axes>"
      ]
     },
     "metadata": {},
     "output_type": "display_data"
    }
   ],
   "source": [
    "# Create a line plot for each rank\n",
    "plt.figure(figsize=(10, 6))\n",
    "\n",
    "for rank in sorted(set(d['rank'] for d in model_acc)):\n",
    "    rank_data = [d for d in model_acc if d['rank'] == rank]\n",
    "    reg_params = [d['regParam'] for d in rank_data]\n",
    "    rmses = [d['rmse'] for d in rank_data]\n",
    "    plt.plot(reg_params, rmses, marker='o', label=f'Rank {rank}')\n",
    "\n",
    "# Add labels and legend\n",
    "plt.title('RMSE vs. Regularization Parameter for Different Ranks')\n",
    "plt.xlabel('Regularization Parameter (regParam)')\n",
    "plt.ylabel('RMSE')\n",
    "plt.legend(title='Rank')\n",
    "plt.grid(True)\n",
    "plt.show()"
   ]
  },
  {
   "cell_type": "code",
   "execution_count": 12,
   "id": "a4576213",
   "metadata": {},
   "outputs": [],
   "source": [
    "best_model = als_model.bestModel"
   ]
  },
  {
   "cell_type": "code",
   "execution_count": 13,
   "id": "c6d973d9",
   "metadata": {},
   "outputs": [],
   "source": [
    "# Save the trained ALS model\n",
    "\n",
    "best_model.write().overwrite().save(\"als_model\")\n"
   ]
  },
  {
   "cell_type": "code",
   "execution_count": 14,
   "id": "4432ad90",
   "metadata": {},
   "outputs": [
    {
     "name": "stdout",
     "output_type": "stream",
     "text": [
      "+----+-------------------------------------------------------------------------------------------------------------+\n",
      "|user|recommendations                                                                                              |\n",
      "+----+-------------------------------------------------------------------------------------------------------------+\n",
      "|31  |[{1126716, 10.136458}, {673714, 10.1066475}, {623298, 10.0788355}, {2031215, 9.7910385}, {1896861, 9.786571}]|\n",
      "|34  |[{1978586, 11.345668}, {473851, 11.340048}, {247831, 11.071041}, {270664, 10.904728}, {1802412, 10.785442}]  |\n",
      "|65  |[{552748, 12.800273}, {272451, 11.839228}, {2011455, 11.7571}, {1518805, 11.35747}, {567221, 11.3473425}]    |\n",
      "|78  |[{236394, 7.8244023}, {258546, 7.5359926}, {174141, 7.5359926}, {702409, 7.3347144}, {1715742, 7.265935}]    |\n",
      "|85  |[{1487959, 12.805325}, {1746863, 12.534154}, {151125, 12.1825485}, {617178, 12.06793}, {387672, 12.050993}]  |\n",
      "|108 |[{1589880, 0.0}, {1589380, 0.0}, {1588790, 0.0}, {1588730, 0.0}, {1588340, 0.0}]                             |\n",
      "|115 |[{596397, 5.6180034}, {349071, 5.5027795}, {632778, 5.444545}, {1456516, 5.4288635}, {504500, 5.4251337}]    |\n",
      "|137 |[{709418, 5.492076}, {2334926, 5.4874783}, {206334, 5.486394}, {711138, 5.4785304}, {31223, 5.450346}]       |\n",
      "|193 |[{819340, 9.263956}, {538085, 9.253394}, {1780071, 9.171995}, {1569624, 9.123692}, {561752, 9.123692}]       |\n",
      "|210 |[{1658795, 7.2939916}, {561934, 7.1759067}, {466768, 7.1187377}, {817058, 7.1097064}, {2315989, 7.0798283}]  |\n",
      "|243 |[{1526987, 14.658556}, {552668, 14.444323}, {434494, 14.264759}, {73811, 14.261036}, {1251137, 14.221514}]   |\n",
      "|251 |[{314262, 6.8711905}, {556040, 6.7938023}, {664270, 6.6922293}, {261542, 6.638157}, {488024, 6.598508}]      |\n",
      "|296 |[{65855, 7.8184843}, {1340826, 7.57961}, {1289777, 7.57961}, {1199347, 7.533818}, {500060, 7.458903}]        |\n",
      "|362 |[{927160, 10.0970745}, {388318, 9.865488}, {726766, 9.708853}, {183846, 9.646987}, {173540, 9.568226}]       |\n",
      "|385 |[{999032, 5.2481427}, {415505, 5.246371}, {415765, 5.2370706}, {415762, 5.2370706}, {415708, 5.2370706}]     |\n",
      "|392 |[{1033510, 7.9382896}, {840910, 7.8686714}, {405971, 7.8178444}, {131326, 7.8178444}, {925899, 7.77837}]     |\n",
      "|451 |[{920640, 8.846966}, {393241, 8.846966}, {317469, 8.459135}, {391086, 8.377243}, {1651092, 8.36402}]         |\n",
      "|458 |[{270021, 10.32868}, {687071, 10.102429}, {1708187, 10.067912}, {330936, 10.064362}, {262314, 10.050646}]    |\n",
      "|463 |[{166112, 6.531206}, {455613, 6.5311303}, {462742, 6.514913}, {1018451, 6.49972}, {175819, 6.453416}]        |\n",
      "|471 |[{15693, 12.361022}, {910829, 12.1332855}, {1617148, 11.944168}, {1732084, 11.800223}, {622684, 11.703108}]  |\n",
      "+----+-------------------------------------------------------------------------------------------------------------+\n",
      "only showing top 20 rows\n"
     ]
    }
   ],
   "source": [
    "user_recs = best_model.recommendForAllUsers(5)\n",
    "user_recs.show(truncate=False)"
   ]
  },
  {
   "cell_type": "code",
   "execution_count": 15,
   "id": "cede0066",
   "metadata": {},
   "outputs": [],
   "source": [
    "from pyspark.sql.functions import explode, col\n",
    "\n",
    "flat_recs = user_recs.select(\n",
    "    col(\"user\"),\n",
    "    explode(\"recommendations\").alias(\"rec\")\n",
    ").select(\n",
    "    col(\"user\"),\n",
    "    col(\"rec.book\").alias(\"book\"),\n",
    "    col(\"rec.rating\").alias(\"rating\")\n",
    ")"
   ]
  },
  {
   "cell_type": "code",
   "execution_count": 16,
   "id": "58883e3d",
   "metadata": {},
   "outputs": [],
   "source": [
    "(\n",
    "    flat_recs\n",
    "    .coalesce(1)                       # <-- only 1 output partition\n",
    "    .write\n",
    "    .mode(\"overwrite\")\n",
    "    .option(\"header\", True)\n",
    "    .csv(\"user_recs_tmp\")              # create a temp folder\n",
    ")\n",
    "\n",
    "# --- Rename the single part-file to something nice ---------------------------\n",
    "import os, glob, shutil, pathlib\n",
    "\n",
    "tmp_dir = pathlib.Path(\"user_recs_tmp\")\n",
    "part_file = glob.glob(str(tmp_dir / \"part-*.csv\"))[0]   # first/only part file\n",
    "shutil.move(part_file, \"user_recommendations.csv\")      # final filename\n",
    "shutil.rmtree(tmp_dir) "
   ]
  }
 ],
 "metadata": {
  "kernelspec": {
   "display_name": ".venv",
   "language": "python",
   "name": "python3"
  },
  "language_info": {
   "codemirror_mode": {
    "name": "ipython",
    "version": 3
   },
   "file_extension": ".py",
   "mimetype": "text/x-python",
   "name": "python",
   "nbconvert_exporter": "python",
   "pygments_lexer": "ipython3",
   "version": "3.11.9"
  }
 },
 "nbformat": 4,
 "nbformat_minor": 5
}
